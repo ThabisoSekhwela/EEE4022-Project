{
 "cells": [
  {
   "cell_type": "code",
   "execution_count": 1,
   "id": "5a7ef6c0",
   "metadata": {},
   "outputs": [],
   "source": [
    "import tensorflow as tf\n",
    "import numpy as np\n",
    "import pandas as pd\n",
    "import matplotlib.pyplot as ply\n",
    "import cv2\n",
    "import os \n",
    "from os import listdir\n",
    "from os.path import isfile, join\n",
    "from PIL import Image"
   ]
  },
  {
   "cell_type": "code",
   "execution_count": 2,
   "id": "8e9969f0",
   "metadata": {},
   "outputs": [],
   "source": [
    "# iterate through each folder to extract images\n",
    "def load_images_from_folder(folder):\n",
    "    train_data = []\n",
    "    # iterate through all images \n",
    "    for filename in os.listdir(folder):\n",
    "        img = cv2.imread(os.path.join(folder,filename), cv2.IMREAD_GRAYSCALE) # grayscale images used because of contours\n",
    "        img = ~ img # invert image colours\n",
    "        img = cv2.copyMakeBorder(img,15,15,15,15,cv2.BORDER_CONSTANT,value=[0, 0, 0])\n",
    "        kernel = np.ones((2,2), np.uint8)\n",
    "        img = cv2.dilate(img, kernel, iterations=4)    \n",
    "        \n",
    "        im_resize = cv2.resize(img,(28,28))\n",
    "        train_data.append(im_resize)\n",
    "\n",
    "    return train_data  \n",
    "                    "
   ]
  },
  {
   "cell_type": "code",
   "execution_count": 3,
   "id": "7933154d",
   "metadata": {},
   "outputs": [],
   "source": [
    "data0 = []\n",
    "data0 = load_images_from_folder(\"C:/Users/nizen/conda-envs/Final year project/Data/archive/data/extracted_images/0\")\n",
    "\n",
    "\n",
    "for i in range(0,len(data0)):\n",
    "    datax =data0[i]\n",
    "    data0.append([datax])"
   ]
  },
  {
   "cell_type": "code",
   "execution_count": 4,
   "id": "b6c90695",
   "metadata": {},
   "outputs": [
    {
     "data": {
      "image/png": "[encoded data removed]",
      "text/plain": [
       "<Figure size 432x288 with 1 Axes>"
      ]
     },
     "metadata": {
      "needs_background": "light"
     },
     "output_type": "display_data"
    }
   ],
   "source": [
    "ply.imshow(data0[1], cmap=\"gray\") \n",
    "ply.show()"
   ]
  },
  {
   "cell_type": "code",
   "execution_count": 5,
   "id": "a1d67849",
   "metadata": {},
   "outputs": [],
   "source": [
    "data1 = []\n",
    "data1 = load_images_from_folder(\"C:/Users/nizen/conda-envs/Final year project/Data/archive/data/extracted_images/1\")\n",
    "\n",
    "\n",
    "for i in range(0,len(data1)):\n",
    "    datax =data1[i]\n",
    "    data1.append([datax])"
   ]
  },
  {
   "cell_type": "code",
   "execution_count": 6,
   "id": "2e63b0a7",
   "metadata": {},
   "outputs": [
    {
     "data": {
      "image/png": "[encoded data removed]",
      "text/plain": [
       "<Figure size 432x288 with 1 Axes>"
      ]
     },
     "metadata": {
      "needs_background": "light"
     },
     "output_type": "display_data"
    }
   ],
   "source": [
    "ply.imshow(data1[25000], cmap=\"gray\") \n",
    "ply.show()"
   ]
  },
  {
   "cell_type": "code",
   "execution_count": 7,
   "id": "3e045715",
   "metadata": {},
   "outputs": [],
   "source": [
    "data2 = []\n",
    "data2 = load_images_from_folder(\"C:/Users/nizen/conda-envs/Final year project/Data/archive/data/extracted_images/2\")\n",
    "\n",
    "\n",
    "for i in range(0,len(data2)):\n",
    "    datax =data2[i]\n",
    "    data2.append([datax])"
   ]
  },
  {
   "cell_type": "code",
   "execution_count": 8,
   "id": "a9f57eec",
   "metadata": {},
   "outputs": [
    {
     "data": {
      "image/png": "[encoded data removed]",
      "text/plain": [
       "<Figure size 432x288 with 1 Axes>"
      ]
     },
     "metadata": {
      "needs_background": "light"
     },
     "output_type": "display_data"
    }
   ],
   "source": [
    "ply.imshow(data2[25], cmap=\"gray\") \n",
    "ply.show()"
   ]
  },
  {
   "cell_type": "code",
   "execution_count": 9,
   "id": "37634076",
   "metadata": {},
   "outputs": [
    {
     "data": {
      "image/png": "[encoded data removed]",
      "text/plain": [
       "<Figure size 432x288 with 1 Axes>"
      ]
     },
     "metadata": {
      "needs_background": "light"
     },
     "output_type": "display_data"
    }
   ],
   "source": [
    "data3 = []\n",
    "data3 = load_images_from_folder(\"C:/Users/nizen/conda-envs/Final year project/Data/archive/data/extracted_images/3\")\n",
    "\n",
    "\n",
    "for i in range(0,len(data3)):\n",
    "    datax =data3[i]\n",
    "    data3.append([datax])\n",
    "    \n",
    "ply.imshow(data3[1], cmap=\"gray\") \n",
    "ply.show()"
   ]
  },
  {
   "cell_type": "code",
   "execution_count": 10,
   "id": "9aaf3bb7",
   "metadata": {},
   "outputs": [
    {
     "data": {
      "image/png": "[encoded data removed]",
      "text/plain": [
       "<Figure size 432x288 with 1 Axes>"
      ]
     },
     "metadata": {
      "needs_background": "light"
     },
     "output_type": "display_data"
    }
   ],
   "source": [
    "data4 = []\n",
    "data4 = load_images_from_folder(\"C:/Users/nizen/conda-envs/Final year project/Data/archive/data/extracted_images/4\")\n",
    "\n",
    "\n",
    "for i in range(0,len(data4)):\n",
    "    datax =data4[i]\n",
    "    data4.append([datax])\n",
    "    \n",
    "ply.imshow(data4[1], cmap=\"gray\") \n",
    "ply.show()"
   ]
  },
  {
   "cell_type": "code",
   "execution_count": 13,
   "id": "cb8c0d08",
   "metadata": {},
   "outputs": [
    {
     "data": {
      "image/png": "[encoded data removed]",
      "text/plain": [
       "<Figure size 432x288 with 1 Axes>"
      ]
     },
     "metadata": {
      "needs_background": "light"
     },
     "output_type": "display_data"
    }
   ],
   "source": [
    "data5 = []\n",
    "data5 = load_images_from_folder(\"C:/Users/nizen/conda-envs/Final year project/Data/archive/data/extracted_images/5\")\n",
    "\n",
    "\n",
    "for i in range(0,len(data5)):\n",
    "    datax =data5[i]\n",
    "    data5.append([datax])\n",
    "    \n",
    "ply.imshow(data5[5], cmap=\"gray\") \n",
    "ply.show()"
   ]
  },
  {
   "cell_type": "code",
   "execution_count": 14,
   "id": "63aef424",
   "metadata": {},
   "outputs": [
    {
     "data": {
      "image/png": "[encoded data removed]",
      "text/plain": [
       "<Figure size 432x288 with 1 Axes>"
      ]
     },
     "metadata": {
      "needs_background": "light"
     },
     "output_type": "display_data"
    }
   ],
   "source": [
    "dat6 = []\n",
    "data6 = load_images_from_folder(\"C:/Users/nizen/conda-envs/Final year project/Data/archive/data/extracted_images/6\")\n",
    "\n",
    "\n",
    "for i in range(0,len(data6)):\n",
    "    datax =data6[i]\n",
    "    data6.append([datax])\n",
    "    \n",
    "    \n",
    "ply.imshow(data6[1], cmap=\"gray\") \n",
    "ply.show()"
   ]
  },
  {
   "cell_type": "code",
   "execution_count": 16,
   "id": "94053d0f",
   "metadata": {},
   "outputs": [
    {
     "data": {
      "image/png": "[encoded data removed]",
      "text/plain": [
       "<Figure size 432x288 with 1 Axes>"
      ]
     },
     "metadata": {
      "needs_background": "light"
     },
     "output_type": "display_data"
    }
   ],
   "source": [
    "data7 = []\n",
    "data7 = load_images_from_folder(\"C:/Users/nizen/conda-envs/Final year project/Data/archive/data/extracted_images/7\")\n",
    "\n",
    "\n",
    "for i in range(0,len(data7)):\n",
    "    datax =data7[i]\n",
    "    data7.append([datax])\n",
    "    \n",
    "ply.imshow(data7[1], cmap=\"gray\") \n",
    "ply.show()"
   ]
  },
  {
   "cell_type": "code",
   "execution_count": 17,
   "id": "cf1a9042",
   "metadata": {},
   "outputs": [
    {
     "data": {
      "image/png": "[encoded data removed]",
      "text/plain": [
       "<Figure size 432x288 with 1 Axes>"
      ]
     },
     "metadata": {
      "needs_background": "light"
     },
     "output_type": "display_data"
    }
   ],
   "source": [
    "data8 = []\n",
    "data8 = load_images_from_folder(\"C:/Users/nizen/conda-envs/Final year project/Data/archive/data/extracted_images/8\")\n",
    "\n",
    "\n",
    "for i in range(0,len(data8)):\n",
    "    datax =data8[i]\n",
    "    data8.append([datax])\n",
    "    \n",
    "ply.imshow(data8[1], cmap=\"gray\") \n",
    "ply.show()"
   ]
  },
  {
   "cell_type": "code",
   "execution_count": 20,
   "id": "d4ef81a8",
   "metadata": {},
   "outputs": [
    {
     "data": {
      "image/png": "[encoded data removed]",
      "text/plain": [
       "<Figure size 432x288 with 1 Axes>"
      ]
     },
     "metadata": {
      "needs_background": "light"
     },
     "output_type": "display_data"
    }
   ],
   "source": [
    "data9 = []\n",
    "data9 = load_images_from_folder(\"C:/Users/nizen/conda-envs/Final year project/Data/archive/data/extracted_images/9\")\n",
    "\n",
    "\n",
    "for i in range(0,len(data9)):\n",
    "    datax =data9[i]\n",
    "    data9.append([datax])\n",
    "                 \n",
    "                 \n",
    "ply.imshow(data9[1], cmap=\"gray\") \n",
    "ply.show()"
   ]
  },
  {
   "cell_type": "code",
   "execution_count": 21,
   "id": "c8ad3e78",
   "metadata": {},
   "outputs": [
    {
     "data": {
      "image/png": "[encoded data removed]",
      "text/plain": [
       "<Figure size 432x288 with 1 Axes>"
      ]
     },
     "metadata": {
      "needs_background": "light"
     },
     "output_type": "display_data"
    }
   ],
   "source": [
    "data10 = []\n",
    "data10 = load_images_from_folder(\"C:/Users/nizen/conda-envs/Final year project/Data/archive/data/extracted_images/-\")\n",
    "\n",
    "\n",
    "for i in range(0,len(data10)):\n",
    "    datax =data10[i]\n",
    "    data10.append([datax])\n",
    "    \n",
    "ply.imshow(data10[1], cmap=\"gray\") \n",
    "ply.show()"
   ]
  },
  {
   "cell_type": "code",
   "execution_count": 22,
   "id": "56432f3d",
   "metadata": {},
   "outputs": [
    {
     "data": {
      "image/png": "[encoded data removed]",
      "text/plain": [
       "<Figure size 432x288 with 1 Axes>"
      ]
     },
     "metadata": {
      "needs_background": "light"
     },
     "output_type": "display_data"
    }
   ],
   "source": [
    "data11 = []\n",
    "data11 = load_images_from_folder(\"C:/Users/nizen/conda-envs/Final year project/Data/archive/data/extracted_images/+\")\n",
    "\n",
    "\n",
    "for i in range(0,len(data11)):\n",
    "    datax =data11[i]\n",
    "    data11.append([datax])\n",
    "    \n",
    "ply.imshow(data11[1], cmap=\"gray\") \n",
    "ply.show()"
   ]
  },
  {
   "cell_type": "code",
   "execution_count": null,
   "id": "10282594",
   "metadata": {},
   "outputs": [],
   "source": []
  },
  {
   "cell_type": "code",
   "execution_count": 23,
   "id": "1f663e5d",
   "metadata": {},
   "outputs": [
    {
     "data": {
      "image/png": "[encoded data removed]",
      "text/plain": [
       "<Figure size 432x288 with 1 Axes>"
      ]
     },
     "metadata": {
      "needs_background": "light"
     },
     "output_type": "display_data"
    }
   ],
   "source": [
    "data12 = []\n",
    "data12 = load_images_from_folder(\"C:/Users/nizen/conda-envs/Final year project/Data/archive/data/extracted_images/times\")\n",
    "\n",
    "\n",
    "for i in range(0,len(data12)):\n",
    "    datax =data12[i]\n",
    "    data12.append([datax])\n",
    "    \n",
    "    \n",
    "ply.imshow(data12[1], cmap=\"gray\") \n",
    "ply.show()"
   ]
  },
  {
   "cell_type": "code",
   "execution_count": 24,
   "id": "01a9ebce",
   "metadata": {},
   "outputs": [
    {
     "data": {
      "image/png": "[encoded data removed]",
      "text/plain": [
       "<Figure size 432x288 with 1 Axes>"
      ]
     },
     "metadata": {
      "needs_background": "light"
     },
     "output_type": "display_data"
    }
   ],
   "source": [
    "data13 = []\n",
    "data13 = load_images_from_folder(\"C:/Users/nizen/conda-envs/Final year project/Data/archive/data/extracted_images/(\")\n",
    "\n",
    "\n",
    "for i in range(0,len(data13)):\n",
    "    datax =data13[i]\n",
    "    data13.append([datax])\n",
    "    \n",
    "ply.imshow(data13[1], cmap=\"gray\") \n",
    "ply.show()"
   ]
  },
  {
   "cell_type": "code",
   "execution_count": 25,
   "id": "d5f14f42",
   "metadata": {},
   "outputs": [
    {
     "data": {
      "image/png": "[encoded data removed]",
      "text/plain": [
       "<Figure size 432x288 with 1 Axes>"
      ]
     },
     "metadata": {
      "needs_background": "light"
     },
     "output_type": "display_data"
    }
   ],
   "source": [
    "data14 = []\n",
    "data14 = load_images_from_folder(\"C:/Users/nizen/conda-envs/Final year project/Data/archive/data/extracted_images/)\")\n",
    "\n",
    "\n",
    "for i in range(0,len(data14)):\n",
    "    datax =data14[i]\n",
    "    data14.append([datax])\n",
    "    \n",
    "ply.imshow(data14[1], cmap=\"gray\") \n",
    "ply.show()"
   ]
  },
  {
   "cell_type": "code",
   "execution_count": 26,
   "id": "5ed025c5",
   "metadata": {},
   "outputs": [
    {
     "data": {
      "image/png": "[encoded data removed]",
      "text/plain": [
       "<Figure size 432x288 with 1 Axes>"
      ]
     },
     "metadata": {
      "needs_background": "light"
     },
     "output_type": "display_data"
    }
   ],
   "source": [
    "data15 = []\n",
    "data15 = load_images_from_folder(\"C:/Users/nizen/conda-envs/Final year project/Data/archive/data/extracted_images/sqrt\")\n",
    "\n",
    "\n",
    "for i in range(0,len(data15)):\n",
    "    datax =data15[i]\n",
    "    data15.append([datax])\n",
    "    \n",
    "ply.imshow(data15[1], cmap=\"gray\") \n",
    "ply.show()"
   ]
  },
  {
   "cell_type": "code",
   "execution_count": 27,
   "id": "552faeda",
   "metadata": {},
   "outputs": [
    {
     "data": {
      "image/png": "[encoded data removed]",
      "text/plain": [
       "<Figure size 432x288 with 1 Axes>"
      ]
     },
     "metadata": {
      "needs_background": "light"
     },
     "output_type": "display_data"
    },
    {
     "data": {
      "image/png": "[encoded data removed]",
      "text/plain": [
       "<Figure size 432x288 with 1 Axes>"
      ]
     },
     "metadata": {
      "needs_background": "light"
     },
     "output_type": "display_data"
    }
   ],
   "source": [
    "data16 = []\n",
    "data16 = load_images_from_folder(\"C:/Users/nizen/conda-envs/Final year project/Data/archive/data/extracted_images/y\")\n",
    "\n",
    "\n",
    "for i in range(0,len(data16)):\n",
    "    datax =data16[i]\n",
    "    data16.append([datax])\n",
    "    \n",
    "ply.imshow(data9[1], cmap=\"gray\") \n",
    "ply.show()\n",
    "ply.imshow(data16[1], cmap=\"gray\") \n",
    "ply.show()"
   ]
  },
  {
   "cell_type": "code",
   "execution_count": 28,
   "id": "ccb84bff",
   "metadata": {},
   "outputs": [
    {
     "data": {
      "image/png": "[encoded data removed]",
      "text/plain": [
       "<Figure size 432x288 with 1 Axes>"
      ]
     },
     "metadata": {
      "needs_background": "light"
     },
     "output_type": "display_data"
    }
   ],
   "source": [
    "data17 = []\n",
    "data17 = load_images_from_folder(\"C:/Users/nizen/conda-envs/Final year project/Data/archive/data/extracted_images/gt\")\n",
    "\n",
    "\n",
    "for i in range(0,len(data17)):\n",
    "    datax =data17[i]\n",
    "    data17.append([datax])\n",
    "    \n",
    "ply.imshow(data17[1], cmap=\"gray\") \n",
    "ply.show()"
   ]
  },
  {
   "cell_type": "code",
   "execution_count": 29,
   "id": "f7a26863",
   "metadata": {},
   "outputs": [
    {
     "data": {
      "image/png": "[encoded data removed]",
      "text/plain": [
       "<Figure size 432x288 with 1 Axes>"
      ]
     },
     "metadata": {
      "needs_background": "light"
     },
     "output_type": "display_data"
    }
   ],
   "source": [
    "data18 = []\n",
    "data18 = load_images_from_folder(\"C:/Users/nizen/conda-envs/Final year project/Data/archive/data/extracted_images/lt\")\n",
    "\n",
    "\n",
    "for i in range(0,len(data18)):\n",
    "    datax =data18[i]\n",
    "    data18.append([datax])\n",
    "    \n",
    "ply.imshow(data18[1], cmap=\"gray\") \n",
    "ply.show()"
   ]
  },
  {
   "cell_type": "code",
   "execution_count": 31,
   "id": "5770c938",
   "metadata": {},
   "outputs": [
    {
     "name": "stdout",
     "output_type": "stream",
     "text": [
      "408498\n"
     ]
    }
   ],
   "source": [
    "\n",
    "y_test = []\n",
    "for i in range(len(data0)):\n",
    "    y_test.append(\"0\")\n",
    " \n",
    "for i in range(len(data1)):\n",
    "    y_test.append(\"1\")\n",
    "\n",
    "for i in range(len(data2)):\n",
    "    y_test.append(\"2\")  \n",
    "    \n",
    "for i in range(len(data3)):\n",
    "    y_test.append(\"3\") \n",
    "    \n",
    "for i in range(len(data4)):\n",
    "    y_test.append(\"4\")  \n",
    "\n",
    "for i in range(len(data5)):\n",
    "    y_test.append(\"5\")  \n",
    "\n",
    "for i in range(len(data6)):\n",
    "    y_test.append(\"6\") \n",
    "\n",
    "    \n",
    "for i in range(len(data7)):\n",
    "    y_test.append(\"7\")  \n",
    "\n",
    "for i in range(len(data8)):\n",
    "    y_test.append(\"8\")  \n",
    "\n",
    "for i in range(len(data9)):\n",
    "    y_test.append(\"9\")  \n",
    "    \n",
    "for i in range(len(data10)):\n",
    "    y_test.append(\"-\") \n",
    "    \n",
    "for i in range(len(data11)):\n",
    "    y_test.append(\"+\") \n",
    "    \n",
    "for i in range(len(data12)):\n",
    "    y_test.append(\"times\") \n",
    "    \n",
    "for i in range(len(data13)):\n",
    "    y_test.append(\"(\") \n",
    "    \n",
    "for i in range(len(data14)):\n",
    "    y_test.append(\")\") \n",
    "    \n",
    "for i in range(len(data15)):\n",
    "    y_test.append(\"sqrt\") \n",
    "    \n",
    "for i in range(len(data16)):\n",
    "    y_test.append(\"y\") \n",
    "    \n",
    "for i in range(len(data17)):\n",
    "    y_test.append(\"gt\")\n",
    "    \n",
    "for i in range(len(data18)):\n",
    "    y_test.append(\"lt\")\n",
    "    #print(y_test[0])\n",
    "print(len(y_test))"
   ]
  },
  {
   "cell_type": "code",
   "execution_count": 33,
   "id": "0c4c4d01",
   "metadata": {},
   "outputs": [
    {
     "name": "stdout",
     "output_type": "stream",
     "text": [
      "408498\n"
     ]
    }
   ],
   "source": [
    "# combine datasets\n",
    "x_test = np.concatenate((data0,data1))\n",
    "x_test = np.concatenate((x_test,data2))\n",
    "x_test = np.concatenate((x_test,data3))\n",
    "x_test = np.concatenate((x_test,data4))\n",
    "x_test = np.concatenate((x_test,data5))\n",
    "x_test = np.concatenate((x_test,data6))\n",
    "x_test = np.concatenate((x_test,data7))\n",
    "x_test = np.concatenate((x_test,data8))\n",
    "x_test = np.concatenate((x_test,data9))\n",
    "x_test = np.concatenate((x_test,data10))\n",
    "x_test = np.concatenate((x_test,data11))\n",
    "x_test = np.concatenate((x_test,data12))\n",
    "x_test = np.concatenate((x_test,data13))\n",
    "x_test = np.concatenate((x_test,data14))\n",
    "x_test = np.concatenate((x_test,data15))\n",
    "x_test = np.concatenate((x_test,data16))\n",
    "x_test = np.concatenate((x_test,data17))\n",
    "x_test = np.concatenate((x_test,data18))\n",
    "print(len(x_test))"
   ]
  },
  {
   "cell_type": "code",
   "execution_count": 34,
   "id": "fb4e40f7",
   "metadata": {},
   "outputs": [
    {
     "data": {
      "image/png": "[encoded data removed]",
      "text/plain": [
       "<Figure size 432x288 with 1 Axes>"
      ]
     },
     "metadata": {
      "needs_background": "light"
     },
     "output_type": "display_data"
    }
   ],
   "source": [
    "ply.imshow(x_test[23], cmap=\"gray\") \n",
    "ply.show()"
   ]
  },
  {
   "cell_type": "code",
   "execution_count": 73,
   "id": "3cc91923",
   "metadata": {},
   "outputs": [],
   "source": [
    "# importing and predicting\n",
    "import tensorflow as tf\n",
    "from tensorflow import keras\n",
    "from keras.models import Model\n",
    "import keras\n",
    "\n",
    "new_model = tf.keras.models.load_model('saved_model16/my_model16')"
   ]
  },
  {
   "cell_type": "code",
   "execution_count": 74,
   "id": "d56eed43",
   "metadata": {},
   "outputs": [
    {
     "name": "stdout",
     "output_type": "stream",
     "text": [
      "0\n"
     ]
    }
   ],
   "source": [
    "i = 1\n",
    "\n",
    "out_test = []\n",
    "x_test[i] = np.array(x_test[i])\n",
    "x_test[i] = x_test[i].reshape(1,28,28,1)\n",
    "output_pred = new_model.predict_classes(x_test[i])\n",
    "#y_pred.append(output_pred)\n",
    "print(output_pred[0])"
   ]
  },
  {
   "cell_type": "code",
   "execution_count": 77,
   "id": "b7266fef",
   "metadata": {},
   "outputs": [
    {
     "name": "stderr",
     "output_type": "stream",
     "text": [
      "C:\\Users\\nizen\\miniconda3\\lib\\site-packages\\tensorflow\\python\\keras\\engine\\sequential.py:455: UserWarning: `model.predict_classes()` is deprecated and will be removed after 2021-01-01. Please use instead:* `np.argmax(model.predict(x), axis=-1)`,   if your model does multi-class classification   (e.g. if it uses a `softmax` last-layer activation).* `(model.predict(x) > 0.5).astype(\"int32\")`,   if your model does binary classification   (e.g. if it uses a `sigmoid` last-layer activation).\n",
      "  warnings.warn('`model.predict_classes()` is deprecated and '\n"
     ]
    },
    {
     "name": "stdout",
     "output_type": "stream",
     "text": [
      "4085\n",
      "4085\n"
     ]
    }
   ],
   "source": [
    "#y_pred = new_model.predict_classes(x_test)\n",
    "\n",
    "y_pred = []\n",
    "y_test_new = []\n",
    "for i in range(1,len(x_test),100):\n",
    "    x_test[i] = np.array(x_test[i])\n",
    "    x_test[i] = x_test[i].reshape(1,28,28,1)\n",
    "    y_test_new.append(y_test[i])\n",
    "    output_pred = new_model.predict_classes(x_test[i])\n",
    "    \n",
    "    \n",
    "    if (output_pred[0]==0):\n",
    "        y_pred.append(\"0\")\n",
    "    if (output_pred[0]==1):\n",
    "        y_pred.append(\"1\")\n",
    "    if (output_pred[0]==2):\n",
    "        y_pred.append(\"2\")\n",
    "\n",
    "    if (output_pred[0]==3):\n",
    "        y_pred.append(\"3\")\n",
    "\n",
    "    if (output_pred[0]==4):\n",
    "        y_pred.append(\"4\")\n",
    "        \n",
    "    if (output_pred[0]==5):\n",
    "        y_pred.append(\"5\")\n",
    "        \n",
    "    if (output_pred[0]==6):\n",
    "        y_pred.append(\"6\")\n",
    "        \n",
    "    if (output_pred[0]==7):\n",
    "        y_pred.append(\"7\")\n",
    "        \n",
    "    if (output_pred[0]==8):\n",
    "        y_pred.append(\"8\")\n",
    "        \n",
    "    if (output_pred[0]==9):\n",
    "        y_pred.append(\"9\")\n",
    "        \n",
    "    if (output_pred[0]==10):\n",
    "        y_pred.append(\"-\")\n",
    "        \n",
    "    if (output_pred[0]==11):\n",
    "        y_pred.append(\"+\")\n",
    "        \n",
    "    if (output_pred[0]==12):\n",
    "        y_pred.append(\"times\")\n",
    "        \n",
    "    if (output_pred[0]==13):\n",
    "        y_pred.append(\"(\")\n",
    "        \n",
    "    if (output_pred[0]==14):\n",
    "        y_pred.append(\")\")\n",
    "        \n",
    "    if (output_pred[0]==15):\n",
    "        y_pred.append(\"sqrt\")\n",
    "    \n",
    "    if (output_pred[0]==16):\n",
    "        y_pred.append(\"y\")\n",
    "        \n",
    "    if (output_pred[0]==17):\n",
    "        y_pred.append(\"gt\")\n",
    "        \n",
    "    if (output_pred[0]==18):\n",
    "        y_pred.append(\"lt\")\n",
    "    #y_test_new.append(int(y_test[i]))\n",
    "    \n",
    "    \n",
    "print(len(y_pred))\n",
    "print(len(y_test_new))"
   ]
  },
  {
   "cell_type": "code",
   "execution_count": 79,
   "id": "58897b42",
   "metadata": {},
   "outputs": [
    {
     "data": {
      "image/png": "[encoded data removed]",
      "text/plain": [
       "<Figure size 864x864 with 2 Axes>"
      ]
     },
     "metadata": {
      "needs_background": "light"
     },
     "output_type": "display_data"
    }
   ],
   "source": [
    "\n",
    "from mlxtend.plotting import plot_confusion_matrix\n",
    "from sklearn.metrics import confusion_matrix\n",
    "\n",
    "mat = confusion_matrix(y_test_new,y_pred)\n",
    "#plot_confusion_matrix(conf_mat = mat)\n",
    "\n",
    "\n",
    "fig, ax = plot_confusion_matrix(conf_mat=mat,\n",
    "                                colorbar=True,\n",
    "                                show_normed=True,\n",
    "                                fontcolor_threshold=2,\n",
    "                                show_absolute=False,\n",
    "                                cmap='summer',figsize=(12, 12))\n",
    "\n",
    "ply.show()"
   ]
  },
  {
   "cell_type": "code",
   "execution_count": null,
   "id": "2cee163f",
   "metadata": {},
   "outputs": [],
   "source": []
  },
  {
   "cell_type": "code",
   "execution_count": null,
   "id": "b4e2c152",
   "metadata": {},
   "outputs": [],
   "source": []
  }
 ],
 "metadata": {
  "kernelspec": {
   "display_name": "Python (intro-ml)",
   "language": "python",
   "name": "intro-ml"
  },
  "language_info": {
   "codemirror_mode": {
    "name": "ipython",
    "version": 3
   },
   "file_extension": ".py",
   "mimetype": "text/x-python",
   "name": "python",
   "nbconvert_exporter": "python",
   "pygments_lexer": "ipython3",
   "version": "3.9.1"
  }
 },
 "nbformat": 4,
 "nbformat_minor": 5
}
