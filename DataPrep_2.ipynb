{
 "cells": [
  {
   "cell_type": "code",
   "execution_count": 2,
   "id": "4614c11c",
   "metadata": {},
   "outputs": [],
   "source": [
    "import tensorflow as tf\n",
    "import numpy as np\n",
    "import pandas as pd\n",
    "import matplotlib.pyplot as ply\n",
    "import cv2\n",
    "import os \n",
    "from os import listdir\n",
    "from os.path import isfile, join\n",
    "from PIL import Image"
   ]
  },
  {
   "cell_type": "code",
   "execution_count": 2,
   "id": "62e53da8",
   "metadata": {},
   "outputs": [],
   "source": [
    "def maintain_aspect_ratio_resize(image, width=None, height=None, inter=cv2.INTER_AREA):\n",
    "    # Grab the image size and initialize dimensions\n",
    "    dim = None\n",
    "    (h, w) = image.shape\n",
    "    \n",
    "    # Return original image if no need to resize\n",
    "    if width is None and height is None:\n",
    "        return image\n",
    "\n",
    "    # We are resizing height if width is none\n",
    "    if width is None:\n",
    "        # Calculate the ratio of the height and construct the dimensions\n",
    "        r = height / float(h)\n",
    "        dim = (int(w * r), height)\n",
    "    # We are resizing width if height is none\n",
    "    else:\n",
    "        # Calculate the ratio of the width and construct the dimensions\n",
    "        r = width / float(w)\n",
    "        dim = (width, int(h * r))\n",
    "\n",
    "    # Return the resized image\n",
    "    return cv2.resize(image, dim, interpolation=inter)"
   ]
  },
  {
   "cell_type": "code",
   "execution_count": 8,
   "id": "d4e3f3f5",
   "metadata": {},
   "outputs": [
    {
     "name": "stderr",
     "output_type": "stream",
     "text": [
      "<ipython-input-8-ec10d21723c0>:25: FutureWarning: Using a non-tuple sequence for multidimensional indexing is deprecated; use `arr[tuple(seq)]` instead of `arr[seq]`. In the future this will be interpreted as an array index, `arr[np.array(seq)]`, which will result either in an error or a different result.\n",
      "  out[coords] = 1\n",
      "<ipython-input-8-ec10d21723c0>:31: FutureWarning: Using a non-tuple sequence for multidimensional indexing is deprecated; use `arr[tuple(seq)]` instead of `arr[seq]`. In the future this will be interpreted as an array index, `arr[np.array(seq)]`, which will result either in an error or a different result.\n",
      "  out[coords] = 0\n"
     ]
    },
    {
     "data": {
      "image/png": "[encoded data removed]",
      "text/plain": [
       "<Figure size 432x288 with 1 Axes>"
      ]
     },
     "metadata": {
      "needs_background": "light"
     },
     "output_type": "display_data"
    }
   ],
   "source": [
    "import cv2\n",
    "import numpy as np\n",
    "import matplotlib.pyplot as plt\n",
    "\n",
    "\n",
    "def noisy(noise_typ,image):   \n",
    "    if noise_typ == \"gauss\":\n",
    "       row,col= image.shape\n",
    "       mean = 0\n",
    "       var = 0.1\n",
    "       sigma = var**0.5\n",
    "       gauss = np.random.normal(mean,sigma,(row,col))\n",
    "       gauss = gauss.reshape(row,col)\n",
    "       noisy = image + gauss\n",
    "       return noisy\n",
    "    elif noise_typ == \"s&p\":\n",
    "       row,col = image.shape\n",
    "       s_vs_p = 0.7\n",
    "       amount = 0.1\n",
    "       out = np.copy(image)\n",
    "       # Salt mode\n",
    "       num_salt = np.ceil(amount * image.size * s_vs_p)\n",
    "       coords = [np.random.randint(0, i - 1, int(num_salt))\n",
    "              for i in image.shape]\n",
    "       out[coords] = 1\n",
    "\n",
    "      # Pepper mode\n",
    "       num_pepper = np.ceil(amount* image.size * (1. - s_vs_p))\n",
    "       coords = [np.random.randint(0, i - 1, int(num_pepper))\n",
    "              for i in image.shape]\n",
    "       out[coords] = 0\n",
    "       return out\n",
    "    elif noise_typ == \"poisson\":\n",
    "       vals = len(np.unique(image))\n",
    "       vals = 2 ** np.ceil(np.log2(vals))\n",
    "       noisy = np.random.poisson(image * vals) / float(vals)\n",
    "       return noisy\n",
    "    elif noise_typ ==\"speckle\":\n",
    "       row,col = image.shape\n",
    "       gauss = np.random.randn(row,col)\n",
    "       gauss = gauss.reshape(row,col)        \n",
    "       noisy = image + image * gauss\n",
    "       return noisy\n",
    "\n",
    "\n",
    "#plt.imshow(img, cmap=\"gray\") \n",
    "#plt.show()\n",
    "\n",
    "\n",
    "def black_dilate(img):\n",
    "    img = ~ img # invert image colours\n",
    "    #img = cv2.copyMakeBorder(img,5,5,5,5,cv2.BORDER_CONSTANT,value=[0, 0, 0])\n",
    "    kernel = np.ones((2,2), np.uint8)\n",
    "    img = cv2.dilate(img, kernel, iterations=3)\n",
    "    return img\n",
    "    \n",
    "\n",
    "def poison(img): \n",
    "    \n",
    "    img = ~ img # invert image colours\n",
    "    img = cv2.copyMakeBorder(img,5,5,5,5,cv2.BORDER_CONSTANT,value=[0, 0, 0])\n",
    "    kernel = np.ones((2,2), np.uint8)\n",
    "    img = cv2.dilate(img, kernel, iterations=3)    \n",
    "    img = ~ img\n",
    "    #plt.imshow(img, cmap=\"gray\") \n",
    "    #plt.show()\n",
    "    img = noisy(\"poisson\",img)\n",
    "    _,img = cv2.threshold(img,127,255,cv2.THRESH_BINARY)\n",
    "    #img = cv2.resize(img,(45,45))\n",
    "    #_,img = cv2.threshold(img,127,255,cv2.THRESH_BINARY)\n",
    "    #plt.imshow(img, cmap=\"gray\")  \n",
    "    #plt.show()\n",
    "    return img\n",
    "\n",
    "#img = ~ img\n",
    "\n",
    "\n",
    "def s_and_p(img):\n",
    "    img = ~ img # invert image colours\n",
    "    #img = cv2.copyMakeBorder(img,5,5,5,5,cv2.BORDER_CONSTANT,value=[0, 0, 0])\n",
    "    kernel = np.ones((2,2), np.uint8)\n",
    "    img = cv2.dilate(img, kernel, iterations=3)    \n",
    "    img = ~ img\n",
    "    #img = noisy(\"poisson\",img)\n",
    "    img = noisy(\"s&p\",img)\n",
    "    img = ~ img\n",
    "    _,img = cv2.threshold(img,127,255,cv2.THRESH_BINARY)\n",
    "\n",
    "    #img = cv2.resize(img,(45,45))\n",
    "    #plt.imshow(img, cmap=\"gray\") \n",
    "    #plt.show()\n",
    "    return img\n",
    "\n",
    "\n",
    "def speckle(img):\n",
    "    img = ~ img # invert image colours\n",
    "    img = cv2.copyMakeBorder(img,5,5,5,5,cv2.BORDER_CONSTANT,value=[0, 0, 0])\n",
    "    kernel = np.ones((2,2), np.uint8)\n",
    "    img = cv2.dilate(img, kernel, iterations=3)    \n",
    "    img = ~ img\n",
    "    img = noisy(\"poisson\",img)\n",
    "    img = noisy(\"s&p\",img)\n",
    "    img = noisy(\"speckle\",img)\n",
    "    _,img = cv2.threshold(img,127,255,cv2.THRESH_BINARY)\n",
    "\n",
    "    #img = cv2.resize(img,(35,35))\n",
    "    #plt.imshow(img, cmap=\"gray\") \n",
    "    #plt.show()\n",
    "    return img\n",
    "\n",
    "#img = cv2.copyMakeBorder(img,15,15,15,15,cv2.BORDER_CONSTANT,value=[0, 0, 0])\n",
    "#kernel = np.ones((2,2), np.uint8)\n",
    "#x = random.randint(1,4)\n",
    "#print(x)\n",
    "#img = cv2.dilate(img, kernel, iterations=x)    \n",
    "\n",
    "#plt.imshow(img, cmap=\"gray\") \n",
    "#plt.show()\n",
    "\n",
    "img = cv2.imread('C:/Users/nizen/conda-envs/Final year project/Data/archive/data/extracted_images/1/1_273.jpg',cv2.IMREAD_GRAYSCALE)\n",
    "out = s_and_p(img)\n",
    "plt.imshow(out, cmap=\"gray\") \n",
    "plt.show()\n",
    "\n",
    "\n"
   ]
  },
  {
   "cell_type": "code",
   "execution_count": 6,
   "id": "90947086",
   "metadata": {},
   "outputs": [],
   "source": [
    "\n",
    "def choose(img):    \n",
    "    x = random.randint(1,2)\n",
    "    \n",
    "    if x == 1:\n",
    "        return black_dilate(img)\n",
    "    if x == 2:\n",
    "        return s_and_p(img)\n",
    "    if x == 3:\n",
    "        return speckle(img)\n",
    "        \n",
    "    if x == 4:\n",
    "        return poison(img)\n",
    "        "
   ]
  },
  {
   "cell_type": "code",
   "execution_count": 21,
   "id": "bb79bc18",
   "metadata": {},
   "outputs": [],
   "source": [
    "# iterate through each folder to extract images\n",
    "import random\n",
    "\n",
    "def load_images_from_folder(folder):\n",
    "    train_data = []\n",
    "    # iterate through all images \n",
    "    for filename in os.listdir(folder):\n",
    "        img = cv2.imread(os.path.join(folder,filename), cv2.IMREAD_GRAYSCALE) # grayscale images used because of contours\n",
    "        #img = ~ img # invert image colours\n",
    "        #img = cv2.copyMakeBorder(img,15,15,15,15,cv2.BORDER_CONSTANT,value=[0, 0, 0])\n",
    "        #kernel = np.ones((2,2), np.uint8)\n",
    "        #x = random.randint(2,4)\n",
    "        #img = cv2.dilate(img, kernel, iterations=x)    \n",
    "        out = choose(img)\n",
    "        #\n",
    "        #im_resize = maintain_aspect_ratio_resize(out, width=int(28))\n",
    "        im_resize = cv2.resize(out,(45,45))\n",
    "        #im_resize = np.reshape(im_resize,(2025,1))\n",
    "        #train_data.append(im_resize)\n",
    "\n",
    "    return im_resize\n",
    "                    \n",
    "                    \n",
    "                       "
   ]
  },
  {
   "cell_type": "code",
   "execution_count": 26,
   "id": "0dc00fd0",
   "metadata": {},
   "outputs": [
    {
     "name": "stderr",
     "output_type": "stream",
     "text": [
      "<ipython-input-8-ec10d21723c0>:25: FutureWarning: Using a non-tuple sequence for multidimensional indexing is deprecated; use `arr[tuple(seq)]` instead of `arr[seq]`. In the future this will be interpreted as an array index, `arr[np.array(seq)]`, which will result either in an error or a different result.\n",
      "  out[coords] = 1\n",
      "<ipython-input-8-ec10d21723c0>:31: FutureWarning: Using a non-tuple sequence for multidimensional indexing is deprecated; use `arr[tuple(seq)]` instead of `arr[seq]`. In the future this will be interpreted as an array index, `arr[np.array(seq)]`, which will result either in an error or a different result.\n",
      "  out[coords] = 0\n"
     ]
    },
    {
     "data": {
      "text/plain": [
       "-1"
      ]
     },
     "execution_count": 26,
     "metadata": {},
     "output_type": "execute_result"
    }
   ],
   "source": [
    "data = []\n",
    "x = 0\n",
    "data = load_images_from_folder('C:/Users/nizen/conda-envs/Final year project/Data/archive1/data/extracted_images/0')\n",
    "\n",
    "img = data[5]\n",
    "path = 'C:/Users/nizen/conda-envs/Final year project/Data/Data new/0'\n",
    "cv2.imwrite(os.path.join(path , '25'+str(0)+'.jpg'), img)\n",
    "cv2.waitKey(0)\n",
    "\n",
    "#for i in range(0,len(data)):\n",
    "    #img = cv2.imread('1.jpg', 1)\n",
    "    #img = choose(data[i])\n",
    "#    img = data[i]\n"
   ]
  },
  {
   "cell_type": "code",
   "execution_count": 11,
   "id": "e1b85a3b",
   "metadata": {},
   "outputs": [
    {
     "name": "stderr",
     "output_type": "stream",
     "text": [
      "<ipython-input-6-ec10d21723c0>:25: FutureWarning: Using a non-tuple sequence for multidimensional indexing is deprecated; use `arr[tuple(seq)]` instead of `arr[seq]`. In the future this will be interpreted as an array index, `arr[np.array(seq)]`, which will result either in an error or a different result.\n",
      "  out[coords] = 1\n",
      "<ipython-input-6-ec10d21723c0>:31: FutureWarning: Using a non-tuple sequence for multidimensional indexing is deprecated; use `arr[tuple(seq)]` instead of `arr[seq]`. In the future this will be interpreted as an array index, `arr[np.array(seq)]`, which will result either in an error or a different result.\n",
      "  out[coords] = 0\n"
     ]
    }
   ],
   "source": [
    "# assign '0' = 0\n",
    "# copy path containing -\n",
    "data = []\n",
    "data = load_images_from_folder(\"C:/Users/nizen/conda-envs/Final year project/Data/archive/data/extracted_images/0\")\n",
    "\n",
    "# upload 70% of the data\n",
    "data = data[:round(0.9*len(data))]\n",
    "for i in range(0,len(data)):\n",
    "    datax =data[i]\n",
    "    data[i] = np.append(datax,[\"0\"])\n",
    "# concantinate data\n",
    "#\n",
    "#print(len(data))"
   ]
  },
  {
   "cell_type": "code",
   "execution_count": null,
   "id": "eadc705a",
   "metadata": {},
   "outputs": [],
   "source": []
  },
  {
   "cell_type": "code",
   "execution_count": 12,
   "id": "9e0e496a",
   "metadata": {},
   "outputs": [
    {
     "name": "stdout",
     "output_type": "stream",
     "text": [
      "6223\n",
      "5600.7\n",
      "4356\n"
     ]
    }
   ],
   "source": [
    "print(len(data))\n",
    "print(0.9*len(data))\n",
    "print(round(0.7*len(data)))"
   ]
  },
  {
   "cell_type": "code",
   "execution_count": 13,
   "id": "a134cd8a",
   "metadata": {},
   "outputs": [
    {
     "name": "stderr",
     "output_type": "stream",
     "text": [
      "<ipython-input-6-ec10d21723c0>:25: FutureWarning: Using a non-tuple sequence for multidimensional indexing is deprecated; use `arr[tuple(seq)]` instead of `arr[seq]`. In the future this will be interpreted as an array index, `arr[np.array(seq)]`, which will result either in an error or a different result.\n",
      "  out[coords] = 1\n",
      "<ipython-input-6-ec10d21723c0>:31: FutureWarning: Using a non-tuple sequence for multidimensional indexing is deprecated; use `arr[tuple(seq)]` instead of `arr[seq]`. In the future this will be interpreted as an array index, `arr[np.array(seq)]`, which will result either in an error or a different result.\n",
      "  out[coords] = 0\n"
     ]
    },
    {
     "name": "stdout",
     "output_type": "stream",
     "text": [
      "26520\n",
      "23868\n",
      "30091\n"
     ]
    }
   ],
   "source": [
    "# assign '1' = 1\n",
    "# copy path containing -\n",
    "data1 = load_images_from_folder(\"C:/Users/nizen/conda-envs/Final year project/Data/archive/data/extracted_images/1\")\n",
    "print(len(data1))\n",
    "# upload 70% of the data\n",
    "data1 = data1[:round(0.9*len(data1))]\n",
    "for i in range(0,len(data1)):\n",
    "    datax = data1[i]\n",
    "    data1[i] = np.append(datax,[\"1\"])\n",
    "# concantinate data\n",
    "print(len(data1))\n",
    "data = np.concatenate((data,data1))\n",
    "print(len(data))"
   ]
  },
  {
   "cell_type": "code",
   "execution_count": 14,
   "id": "ac09e1bc",
   "metadata": {},
   "outputs": [
    {
     "name": "stderr",
     "output_type": "stream",
     "text": [
      "<ipython-input-6-ec10d21723c0>:25: FutureWarning: Using a non-tuple sequence for multidimensional indexing is deprecated; use `arr[tuple(seq)]` instead of `arr[seq]`. In the future this will be interpreted as an array index, `arr[np.array(seq)]`, which will result either in an error or a different result.\n",
      "  out[coords] = 1\n",
      "<ipython-input-6-ec10d21723c0>:31: FutureWarning: Using a non-tuple sequence for multidimensional indexing is deprecated; use `arr[tuple(seq)]` instead of `arr[seq]`. In the future this will be interpreted as an array index, `arr[np.array(seq)]`, which will result either in an error or a different result.\n",
      "  out[coords] = 0\n"
     ]
    },
    {
     "name": "stdout",
     "output_type": "stream",
     "text": [
      "53618\n"
     ]
    }
   ],
   "source": [
    "# assign '2' = 2\n",
    "# copy path containing -\n",
    "data2 = load_images_from_folder(\"C:/Users/nizen/conda-envs/Final year project/Data/archive/data/extracted_images/2\")\n",
    "\n",
    "data2 = data2[:round(0.9*len(data2))]\n",
    "for i in range(0,len(data2)):\n",
    "    datax = data2[i]\n",
    "    data2[i] = np.append(datax,[\"2\"])\n",
    "# concantinate data\n",
    "data = np.concatenate((data,data2))\n",
    "print(len(data))"
   ]
  },
  {
   "cell_type": "code",
   "execution_count": 15,
   "id": "a230ee8a",
   "metadata": {},
   "outputs": [
    {
     "name": "stderr",
     "output_type": "stream",
     "text": [
      "<ipython-input-6-ec10d21723c0>:25: FutureWarning: Using a non-tuple sequence for multidimensional indexing is deprecated; use `arr[tuple(seq)]` instead of `arr[seq]`. In the future this will be interpreted as an array index, `arr[np.array(seq)]`, which will result either in an error or a different result.\n",
      "  out[coords] = 1\n",
      "<ipython-input-6-ec10d21723c0>:31: FutureWarning: Using a non-tuple sequence for multidimensional indexing is deprecated; use `arr[tuple(seq)]` instead of `arr[seq]`. In the future this will be interpreted as an array index, `arr[np.array(seq)]`, which will result either in an error or a different result.\n",
      "  out[coords] = 0\n"
     ]
    },
    {
     "name": "stdout",
     "output_type": "stream",
     "text": [
      "63436\n"
     ]
    }
   ],
   "source": [
    "# assign '3' = 3\n",
    "# copy path containing -\n",
    "data3 = load_images_from_folder(\"C:/Users/nizen/conda-envs/Final year project/Data/archive/data/extracted_images/3\")\n",
    "\n",
    "data3 = data3[:round(0.9*len(data3))]\n",
    "for i in range(0,len(data3)):\n",
    "    datax = data3[i]\n",
    "    data3[i] = np.append(datax,[\"3\"])\n",
    "# concantinate data\n",
    "data = np.concatenate((data,data3))\n",
    "print(len(data))"
   ]
  },
  {
   "cell_type": "code",
   "execution_count": 16,
   "id": "7e079484",
   "metadata": {},
   "outputs": [
    {
     "name": "stderr",
     "output_type": "stream",
     "text": [
      "<ipython-input-6-ec10d21723c0>:25: FutureWarning: Using a non-tuple sequence for multidimensional indexing is deprecated; use `arr[tuple(seq)]` instead of `arr[seq]`. In the future this will be interpreted as an array index, `arr[np.array(seq)]`, which will result either in an error or a different result.\n",
      "  out[coords] = 1\n",
      "<ipython-input-6-ec10d21723c0>:31: FutureWarning: Using a non-tuple sequence for multidimensional indexing is deprecated; use `arr[tuple(seq)]` instead of `arr[seq]`. In the future this will be interpreted as an array index, `arr[np.array(seq)]`, which will result either in an error or a different result.\n",
      "  out[coords] = 0\n"
     ]
    },
    {
     "name": "stdout",
     "output_type": "stream",
     "text": [
      "70092\n"
     ]
    }
   ],
   "source": [
    "# assign '4' = 4\n",
    "# copy path containing -\n",
    "data4 = load_images_from_folder(\"C:/Users/nizen/conda-envs/Final year project/Data/archive/data/extracted_images/4\")\n",
    "\n",
    "data4 = data4[:round(0.9*len(data4))]\n",
    "for i in range(0,len(data4)):\n",
    "    datax = data4[i]\n",
    "    data4[i] = np.append(datax,[\"4\"])\n",
    "# concantinate data\n",
    "data = np.concatenate((data,data4))\n",
    "print(len(data))"
   ]
  },
  {
   "cell_type": "code",
   "execution_count": 17,
   "id": "6e585599",
   "metadata": {},
   "outputs": [
    {
     "name": "stderr",
     "output_type": "stream",
     "text": [
      "<ipython-input-6-ec10d21723c0>:25: FutureWarning: Using a non-tuple sequence for multidimensional indexing is deprecated; use `arr[tuple(seq)]` instead of `arr[seq]`. In the future this will be interpreted as an array index, `arr[np.array(seq)]`, which will result either in an error or a different result.\n",
      "  out[coords] = 1\n",
      "<ipython-input-6-ec10d21723c0>:31: FutureWarning: Using a non-tuple sequence for multidimensional indexing is deprecated; use `arr[tuple(seq)]` instead of `arr[seq]`. In the future this will be interpreted as an array index, `arr[np.array(seq)]`, which will result either in an error or a different result.\n",
      "  out[coords] = 0\n"
     ]
    },
    {
     "name": "stdout",
     "output_type": "stream",
     "text": [
      "73282\n"
     ]
    }
   ],
   "source": [
    "# assign '5' = 5\n",
    "# copy path containing -\n",
    "data5 = load_images_from_folder(\"C:/Users/nizen/conda-envs/Final year project/Data/archive/data/extracted_images/5\")\n",
    "\n",
    "data5 = data5[:round(0.9*len(data5))]\n",
    "for i in range(0,len(data5)):\n",
    "    datax = data5[i]\n",
    "    data5[i] = np.append(datax,[\"5\"])\n",
    "# concantinate data\n",
    "data = np.concatenate((data,data5))\n",
    "print(len(data))"
   ]
  },
  {
   "cell_type": "code",
   "execution_count": 18,
   "id": "a893aa97",
   "metadata": {},
   "outputs": [
    {
     "name": "stderr",
     "output_type": "stream",
     "text": [
      "<ipython-input-6-ec10d21723c0>:25: FutureWarning: Using a non-tuple sequence for multidimensional indexing is deprecated; use `arr[tuple(seq)]` instead of `arr[seq]`. In the future this will be interpreted as an array index, `arr[np.array(seq)]`, which will result either in an error or a different result.\n",
      "  out[coords] = 1\n",
      "<ipython-input-6-ec10d21723c0>:31: FutureWarning: Using a non-tuple sequence for multidimensional indexing is deprecated; use `arr[tuple(seq)]` instead of `arr[seq]`. In the future this will be interpreted as an array index, `arr[np.array(seq)]`, which will result either in an error or a different result.\n",
      "  out[coords] = 0\n"
     ]
    },
    {
     "name": "stdout",
     "output_type": "stream",
     "text": [
      "76088\n"
     ]
    }
   ],
   "source": [
    "# assign '6' = 6\n",
    "# copy path containing -\n",
    "data6 = load_images_from_folder(\"C:/Users/nizen/conda-envs/Final year project/Data/archive/data/extracted_images/6\")\n",
    "\n",
    "data6 = data6[:round(0.9*len(data6))]\n",
    "for i in range(0,len(data6)):\n",
    "    datax = data6[i]\n",
    "    data6[i] = np.append(datax,[\"6\"])\n",
    "# concantinate data\n",
    "data = np.concatenate((data,data6))\n",
    "print(len(data))"
   ]
  },
  {
   "cell_type": "code",
   "execution_count": 19,
   "id": "51dcca17",
   "metadata": {},
   "outputs": [
    {
     "name": "stderr",
     "output_type": "stream",
     "text": [
      "<ipython-input-6-ec10d21723c0>:25: FutureWarning: Using a non-tuple sequence for multidimensional indexing is deprecated; use `arr[tuple(seq)]` instead of `arr[seq]`. In the future this will be interpreted as an array index, `arr[np.array(seq)]`, which will result either in an error or a different result.\n",
      "  out[coords] = 1\n",
      "<ipython-input-6-ec10d21723c0>:31: FutureWarning: Using a non-tuple sequence for multidimensional indexing is deprecated; use `arr[tuple(seq)]` instead of `arr[seq]`. In the future this will be interpreted as an array index, `arr[np.array(seq)]`, which will result either in an error or a different result.\n",
      "  out[coords] = 0\n"
     ]
    },
    {
     "name": "stdout",
     "output_type": "stream",
     "text": [
      "78706\n"
     ]
    }
   ],
   "source": [
    "# assign '7' = 7\n",
    "# copy path containing -\n",
    "data7 = load_images_from_folder(\"C:/Users/nizen/conda-envs/Final year project/Data/archive/data/extracted_images/7\")\n",
    "\n",
    "data7 = data7[:round(0.9*len(data7))]\n",
    "for i in range(0,len(data7)):\n",
    "    datax = data7[i]\n",
    "    data7[i] = np.append(datax,[\"7\"])\n",
    "# concantinate data\n",
    "data = np.concatenate((data,data7))\n",
    "print(len(data))"
   ]
  },
  {
   "cell_type": "code",
   "execution_count": 20,
   "id": "dd14a359",
   "metadata": {},
   "outputs": [
    {
     "name": "stderr",
     "output_type": "stream",
     "text": [
      "<ipython-input-6-ec10d21723c0>:25: FutureWarning: Using a non-tuple sequence for multidimensional indexing is deprecated; use `arr[tuple(seq)]` instead of `arr[seq]`. In the future this will be interpreted as an array index, `arr[np.array(seq)]`, which will result either in an error or a different result.\n",
      "  out[coords] = 1\n",
      "<ipython-input-6-ec10d21723c0>:31: FutureWarning: Using a non-tuple sequence for multidimensional indexing is deprecated; use `arr[tuple(seq)]` instead of `arr[seq]`. In the future this will be interpreted as an array index, `arr[np.array(seq)]`, which will result either in an error or a different result.\n",
      "  out[coords] = 0\n"
     ]
    },
    {
     "name": "stdout",
     "output_type": "stream",
     "text": [
      "81467\n"
     ]
    }
   ],
   "source": [
    "# assign '8' = 8\n",
    "# copy path containing -\n",
    "data8 = load_images_from_folder(\"C:/Users/nizen/conda-envs/Final year project/Data/archive/data/extracted_images/8\")\n",
    "\n",
    "data8 = data8[:round(0.9*len(data8))]\n",
    "for i in range(0,len(data8)):\n",
    "    datax = data8[i]\n",
    "    data8[i] = np.append(datax,[\"8\"])\n",
    "# concantinate data\n",
    "data = np.concatenate((data,data8))\n",
    "print(len(data))"
   ]
  },
  {
   "cell_type": "code",
   "execution_count": 21,
   "id": "26711a6a",
   "metadata": {},
   "outputs": [
    {
     "name": "stderr",
     "output_type": "stream",
     "text": [
      "<ipython-input-6-ec10d21723c0>:25: FutureWarning: Using a non-tuple sequence for multidimensional indexing is deprecated; use `arr[tuple(seq)]` instead of `arr[seq]`. In the future this will be interpreted as an array index, `arr[np.array(seq)]`, which will result either in an error or a different result.\n",
      "  out[coords] = 1\n",
      "<ipython-input-6-ec10d21723c0>:31: FutureWarning: Using a non-tuple sequence for multidimensional indexing is deprecated; use `arr[tuple(seq)]` instead of `arr[seq]`. In the future this will be interpreted as an array index, `arr[np.array(seq)]`, which will result either in an error or a different result.\n",
      "  out[coords] = 0\n"
     ]
    },
    {
     "name": "stdout",
     "output_type": "stream",
     "text": [
      "84830\n"
     ]
    }
   ],
   "source": [
    "# assign '9' = 9\n",
    "# copy path containing -\n",
    "data9 = load_images_from_folder(\"C:/Users/nizen/conda-envs/Final year project/Data/archive/data/extracted_images/9\")\n",
    "\n",
    "data9 = data9[:round(0.9*len(data9))]\n",
    "for i in range(0,len(data9)):\n",
    "    datax = data9[i]\n",
    "    data9[i] = np.append(datax,[\"9\"])\n",
    "# concantinate data\n",
    "data = np.concatenate((data,data9))\n",
    "print(len(data))"
   ]
  },
  {
   "cell_type": "code",
   "execution_count": 22,
   "id": "64cdc301",
   "metadata": {},
   "outputs": [
    {
     "name": "stderr",
     "output_type": "stream",
     "text": [
      "<ipython-input-6-ec10d21723c0>:25: FutureWarning: Using a non-tuple sequence for multidimensional indexing is deprecated; use `arr[tuple(seq)]` instead of `arr[seq]`. In the future this will be interpreted as an array index, `arr[np.array(seq)]`, which will result either in an error or a different result.\n",
      "  out[coords] = 1\n",
      "<ipython-input-6-ec10d21723c0>:31: FutureWarning: Using a non-tuple sequence for multidimensional indexing is deprecated; use `arr[tuple(seq)]` instead of `arr[seq]`. In the future this will be interpreted as an array index, `arr[np.array(seq)]`, which will result either in an error or a different result.\n",
      "  out[coords] = 0\n"
     ]
    },
    {
     "name": "stdout",
     "output_type": "stream",
     "text": [
      "115427\n"
     ]
    }
   ],
   "source": [
    "\n",
    "# assign '-' = 10\n",
    "# copy path containing -\n",
    "data10 = load_images_from_folder(\"C:/Users/nizen/conda-envs/Final year project/Data/archive/data/extracted_images/-\")\n",
    "\n",
    "data10 = data10[:round(0.9*len(data10))]\n",
    "for i in range(0,len(data10)):\n",
    "    datax = data10[i]\n",
    "    data10[i] = np.append(datax,[\"10\"])\n",
    "data = np.concatenate((data,data10))\n",
    "print(len(data))"
   ]
  },
  {
   "cell_type": "code",
   "execution_count": 23,
   "id": "ce04c3b1",
   "metadata": {},
   "outputs": [
    {
     "name": "stderr",
     "output_type": "stream",
     "text": [
      "<ipython-input-6-ec10d21723c0>:25: FutureWarning: Using a non-tuple sequence for multidimensional indexing is deprecated; use `arr[tuple(seq)]` instead of `arr[seq]`. In the future this will be interpreted as an array index, `arr[np.array(seq)]`, which will result either in an error or a different result.\n",
      "  out[coords] = 1\n",
      "<ipython-input-6-ec10d21723c0>:31: FutureWarning: Using a non-tuple sequence for multidimensional indexing is deprecated; use `arr[tuple(seq)]` instead of `arr[seq]`. In the future this will be interpreted as an array index, `arr[np.array(seq)]`, which will result either in an error or a different result.\n",
      "  out[coords] = 0\n"
     ]
    },
    {
     "name": "stdout",
     "output_type": "stream",
     "text": [
      "138028\n"
     ]
    }
   ],
   "source": [
    "# assign '+' = 11\n",
    "# copy path containing -\n",
    "data11 = load_images_from_folder(\"C:/Users/nizen/conda-envs/Final year project/Data/archive/data/extracted_images/+\")\n",
    "\n",
    "data11 = data11[:round(0.9*len(data11))]\n",
    "for i in range(0,len(data11)):\n",
    "    datax = data11[i]\n",
    "    data11[i] = np.append(datax,[\"11\"])\n",
    "# concantinate data\n",
    "data = np.concatenate((data,data11))\n",
    "print(len(data))"
   ]
  },
  {
   "cell_type": "code",
   "execution_count": 24,
   "id": "7f1bdce1",
   "metadata": {},
   "outputs": [
    {
     "name": "stderr",
     "output_type": "stream",
     "text": [
      "<ipython-input-6-ec10d21723c0>:25: FutureWarning: Using a non-tuple sequence for multidimensional indexing is deprecated; use `arr[tuple(seq)]` instead of `arr[seq]`. In the future this will be interpreted as an array index, `arr[np.array(seq)]`, which will result either in an error or a different result.\n",
      "  out[coords] = 1\n",
      "<ipython-input-6-ec10d21723c0>:31: FutureWarning: Using a non-tuple sequence for multidimensional indexing is deprecated; use `arr[tuple(seq)]` instead of `arr[seq]`. In the future this will be interpreted as an array index, `arr[np.array(seq)]`, which will result either in an error or a different result.\n",
      "  out[coords] = 0\n"
     ]
    },
    {
     "name": "stdout",
     "output_type": "stream",
     "text": [
      "140954\n"
     ]
    }
   ],
   "source": [
    "# assign 'times' = 12\n",
    "# copy path containing -\n",
    "data12 = load_images_from_folder(\"C:/Users/nizen/conda-envs/Final year project/Data/archive/data/extracted_images/times\")\n",
    "\n",
    "data12 = data12[:round(0.9*len(data12))]\n",
    "for i in range(0,len(data12)):\n",
    "    datax = data12[i]\n",
    "    data12[i] = np.append(datax,[\"12\"])\n",
    "# concantinate data\n",
    "data = np.concatenate((data,data12))\n",
    "print(len(data))"
   ]
  },
  {
   "cell_type": "code",
   "execution_count": 25,
   "id": "c507dab7",
   "metadata": {},
   "outputs": [
    {
     "name": "stderr",
     "output_type": "stream",
     "text": [
      "<ipython-input-6-ec10d21723c0>:25: FutureWarning: Using a non-tuple sequence for multidimensional indexing is deprecated; use `arr[tuple(seq)]` instead of `arr[seq]`. In the future this will be interpreted as an array index, `arr[np.array(seq)]`, which will result either in an error or a different result.\n",
      "  out[coords] = 1\n",
      "<ipython-input-6-ec10d21723c0>:31: FutureWarning: Using a non-tuple sequence for multidimensional indexing is deprecated; use `arr[tuple(seq)]` instead of `arr[seq]`. In the future this will be interpreted as an array index, `arr[np.array(seq)]`, which will result either in an error or a different result.\n",
      "  out[coords] = 0\n"
     ]
    },
    {
     "name": "stdout",
     "output_type": "stream",
     "text": [
      "153819\n"
     ]
    }
   ],
   "source": [
    "# assign '(' = 13\n",
    "# copy path containing -\n",
    "data13 = load_images_from_folder(\"C:/Users/nizen/conda-envs/Final year project/Data/archive/data/extracted_images/(\")\n",
    "\n",
    "data13 = data13[:round(0.9*len(data13))]\n",
    "for i in range(0,len(data13)):\n",
    "    datax = data13[i]\n",
    "    data13[i] = np.append(datax,[\"13\"])\n",
    "# concantinate data\n",
    "data = np.concatenate((data,data13))\n",
    "print(len(data))"
   ]
  },
  {
   "cell_type": "code",
   "execution_count": 26,
   "id": "68175adc",
   "metadata": {},
   "outputs": [
    {
     "name": "stderr",
     "output_type": "stream",
     "text": [
      "<ipython-input-6-ec10d21723c0>:25: FutureWarning: Using a non-tuple sequence for multidimensional indexing is deprecated; use `arr[tuple(seq)]` instead of `arr[seq]`. In the future this will be interpreted as an array index, `arr[np.array(seq)]`, which will result either in an error or a different result.\n",
      "  out[coords] = 1\n",
      "<ipython-input-6-ec10d21723c0>:31: FutureWarning: Using a non-tuple sequence for multidimensional indexing is deprecated; use `arr[tuple(seq)]` instead of `arr[seq]`. In the future this will be interpreted as an array index, `arr[np.array(seq)]`, which will result either in an error or a different result.\n",
      "  out[coords] = 0\n"
     ]
    },
    {
     "name": "stdout",
     "output_type": "stream",
     "text": [
      "166739\n"
     ]
    }
   ],
   "source": [
    "# assign ')' = 14\n",
    "# copy path containing -\n",
    "data14 = load_images_from_folder(\"C:/Users/nizen/conda-envs/Final year project/Data/archive/data/extracted_images/)\")\n",
    "\n",
    "data14 = data14[:round(0.9*len(data14))]\n",
    "for i in range(0,len(data14)):\n",
    "    datax = data14[i]\n",
    "    data14[i] = np.append(datax,[\"14\"])\n",
    "# concantinate data\n",
    "data = np.concatenate((data,data14))\n",
    "print(len(data))"
   ]
  },
  {
   "cell_type": "code",
   "execution_count": 27,
   "id": "faed371f",
   "metadata": {},
   "outputs": [
    {
     "name": "stderr",
     "output_type": "stream",
     "text": [
      "<ipython-input-6-ec10d21723c0>:25: FutureWarning: Using a non-tuple sequence for multidimensional indexing is deprecated; use `arr[tuple(seq)]` instead of `arr[seq]`. In the future this will be interpreted as an array index, `arr[np.array(seq)]`, which will result either in an error or a different result.\n",
      "  out[coords] = 1\n",
      "<ipython-input-6-ec10d21723c0>:31: FutureWarning: Using a non-tuple sequence for multidimensional indexing is deprecated; use `arr[tuple(seq)]` instead of `arr[seq]`. In the future this will be interpreted as an array index, `arr[np.array(seq)]`, which will result either in an error or a different result.\n",
      "  out[coords] = 0\n"
     ]
    },
    {
     "name": "stdout",
     "output_type": "stream",
     "text": [
      "174756\n"
     ]
    }
   ],
   "source": [
    "# assign 'sqrt' = 15\n",
    "# copy path containing -\n",
    "data15 = load_images_from_folder(\"C:/Users/nizen/conda-envs/Final year project/Data/archive/data/extracted_images/sqrt\")\n",
    "\n",
    "data15 = data15[:round(0.9*len(data15))]\n",
    "for i in range(0,len(data15)):\n",
    "    datax = data15[i]\n",
    "    data15[i] = np.append(datax,[\"15\"])\n",
    "# concantinate data\n",
    "data = np.concatenate((data,data15))\n",
    "print(len(data))"
   ]
  },
  {
   "cell_type": "code",
   "execution_count": 28,
   "id": "875f2d16",
   "metadata": {},
   "outputs": [],
   "source": [
    "# assign 'X' = 16\n",
    "# copy path containing -\n",
    "#data16 = load_images_from_folder(\"C:/Users/nizen/conda-envs/Final year project/Data/archive/data/extracted_images/X\")\n",
    "\n",
    "#for i in range(0,len(data16)):\n",
    "#    datax =~data16[i]\n",
    "#    datax = cv2.dilate(datax, (1,1), iterations=2)\n",
    "#    datax=~datax\n",
    "#    datax = cv2.GaussianBlur(datax, (3, 3), 60)\n",
    "#    datax=~datax\n",
    "#    data16[i] = np.append(datax,[\"16\"])\n",
    "# concantinate data\n",
    "#data = np.concatenate((data,data16))\n",
    "#print(len(data))"
   ]
  },
  {
   "cell_type": "code",
   "execution_count": 29,
   "id": "8352b60e",
   "metadata": {},
   "outputs": [
    {
     "name": "stderr",
     "output_type": "stream",
     "text": [
      "<ipython-input-6-ec10d21723c0>:25: FutureWarning: Using a non-tuple sequence for multidimensional indexing is deprecated; use `arr[tuple(seq)]` instead of `arr[seq]`. In the future this will be interpreted as an array index, `arr[np.array(seq)]`, which will result either in an error or a different result.\n",
      "  out[coords] = 1\n",
      "<ipython-input-6-ec10d21723c0>:31: FutureWarning: Using a non-tuple sequence for multidimensional indexing is deprecated; use `arr[tuple(seq)]` instead of `arr[seq]`. In the future this will be interpreted as an array index, `arr[np.array(seq)]`, which will result either in an error or a different result.\n",
      "  out[coords] = 0\n"
     ]
    },
    {
     "name": "stdout",
     "output_type": "stream",
     "text": [
      "183162\n"
     ]
    }
   ],
   "source": [
    "# assign 'y' = 17\n",
    "# copy path containing -\n",
    "data16 = load_images_from_folder(\"C:/Users/nizen/conda-envs/Final year project/Data/archive/data/extracted_images/y\")\n",
    "\n",
    "data16 = data16[:round(0.9*len(data16))]\n",
    "for i in range(0,len(data16)):\n",
    "    datax = data16[i]\n",
    "    data16[i] = np.append(datax,[\"16\"])\n",
    "# concantinate data\n",
    "data = np.concatenate((data,data16))\n",
    "print(len(data))"
   ]
  },
  {
   "cell_type": "code",
   "execution_count": 30,
   "id": "c8655105",
   "metadata": {},
   "outputs": [
    {
     "name": "stderr",
     "output_type": "stream",
     "text": [
      "<ipython-input-6-ec10d21723c0>:25: FutureWarning: Using a non-tuple sequence for multidimensional indexing is deprecated; use `arr[tuple(seq)]` instead of `arr[seq]`. In the future this will be interpreted as an array index, `arr[np.array(seq)]`, which will result either in an error or a different result.\n",
      "  out[coords] = 1\n",
      "<ipython-input-6-ec10d21723c0>:31: FutureWarning: Using a non-tuple sequence for multidimensional indexing is deprecated; use `arr[tuple(seq)]` instead of `arr[seq]`. In the future this will be interpreted as an array index, `arr[np.array(seq)]`, which will result either in an error or a different result.\n",
      "  out[coords] = 0\n"
     ]
    },
    {
     "name": "stdout",
     "output_type": "stream",
     "text": [
      "183394\n"
     ]
    }
   ],
   "source": [
    "# assign 'gt' = 18\n",
    "# copy path containing -\n",
    "data17 = load_images_from_folder(\"C:/Users/nizen/conda-envs/Final year project/Data/archive/data/extracted_images/gt\")\n",
    "\n",
    "data17 = data17[:round(0.9*len(data17))]\n",
    "for i in range(0,len(data17)):\n",
    "    datax = data17[i]\n",
    "    data17[i] = np.append(datax,[\"17\"])\n",
    "# concantinate data\n",
    "data = np.concatenate((data,data17))\n",
    "print(len(data))"
   ]
  },
  {
   "cell_type": "code",
   "execution_count": 31,
   "id": "a5c089d4",
   "metadata": {},
   "outputs": [
    {
     "name": "stderr",
     "output_type": "stream",
     "text": [
      "<ipython-input-6-ec10d21723c0>:25: FutureWarning: Using a non-tuple sequence for multidimensional indexing is deprecated; use `arr[tuple(seq)]` instead of `arr[seq]`. In the future this will be interpreted as an array index, `arr[np.array(seq)]`, which will result either in an error or a different result.\n",
      "  out[coords] = 1\n",
      "<ipython-input-6-ec10d21723c0>:31: FutureWarning: Using a non-tuple sequence for multidimensional indexing is deprecated; use `arr[tuple(seq)]` instead of `arr[seq]`. In the future this will be interpreted as an array index, `arr[np.array(seq)]`, which will result either in an error or a different result.\n",
      "  out[coords] = 0\n"
     ]
    },
    {
     "name": "stdout",
     "output_type": "stream",
     "text": [
      "183823\n"
     ]
    }
   ],
   "source": [
    "# assign 'ls' = 19\n",
    "# copy path containing -\n",
    "data18 = load_images_from_folder(\"C:/Users/nizen/conda-envs/Final year project/Data/archive/data/extracted_images/lt\")\n",
    "\n",
    "data18 = data18[:round(0.9*len(data18))]\n",
    "for i in range(0,len(data18)):\n",
    "    datax = data18[i]\n",
    "    data18[i] = np.append(datax,[\"18\"])\n",
    "# concantinate data\n",
    "data = np.concatenate((data,data18))\n",
    "print(len(data))"
   ]
  },
  {
   "cell_type": "code",
   "execution_count": null,
   "id": "8e719cfa",
   "metadata": {},
   "outputs": [],
   "source": []
  },
  {
   "cell_type": "markdown",
   "id": "c7ff14b0",
   "metadata": {},
   "source": [
    "# Store data to csv file"
   ]
  },
  {
   "cell_type": "code",
   "execution_count": 32,
   "id": "a5932878",
   "metadata": {},
   "outputs": [],
   "source": [
    "df = pd.DataFrame(data,index = None)\n",
    "df.to_csv('train_final13.csv',index = False)"
   ]
  },
  {
   "cell_type": "code",
   "execution_count": 190,
   "id": "557435c8",
   "metadata": {},
   "outputs": [
    {
     "name": "stderr",
     "output_type": "stream",
     "text": [
      "<ipython-input-188-e80bc1363958>:25: FutureWarning: Using a non-tuple sequence for multidimensional indexing is deprecated; use `arr[tuple(seq)]` instead of `arr[seq]`. In the future this will be interpreted as an array index, `arr[np.array(seq)]`, which will result either in an error or a different result.\n",
      "  out[coords] = 1\n",
      "<ipython-input-188-e80bc1363958>:31: FutureWarning: Using a non-tuple sequence for multidimensional indexing is deprecated; use `arr[tuple(seq)]` instead of `arr[seq]`. In the future this will be interpreted as an array index, `arr[np.array(seq)]`, which will result either in an error or a different result.\n",
      "  out[coords] = 0\n"
     ]
    },
    {
     "data": {
      "image/png": "[encoded data removed]",
      "text/plain": [
       "<Figure size 432x288 with 1 Axes>"
      ]
     },
     "metadata": {
      "needs_background": "light"
     },
     "output_type": "display_data"
    }
   ],
   "source": [
    "plt.imshow(choose(img), cmap=\"gray\") \n",
    "plt.show()"
   ]
  },
  {
   "cell_type": "code",
   "execution_count": 191,
   "id": "a7e5c037",
   "metadata": {},
   "outputs": [
    {
     "name": "stdout",
     "output_type": "stream",
     "text": [
      "5\n"
     ]
    }
   ],
   "source": [
    "x = random.randint(2,6)\n",
    "print(x)"
   ]
  },
  {
   "cell_type": "code",
   "execution_count": null,
   "id": "c383fae3",
   "metadata": {},
   "outputs": [],
   "source": []
  },
  {
   "cell_type": "code",
   "execution_count": null,
   "id": "3de8625c",
   "metadata": {},
   "outputs": [],
   "source": []
  },
  {
   "cell_type": "code",
   "execution_count": null,
   "id": "d9015879",
   "metadata": {},
   "outputs": [],
   "source": []
  },
  {
   "cell_type": "code",
   "execution_count": null,
   "id": "e87f1bba",
   "metadata": {},
   "outputs": [],
   "source": []
  },
  {
   "cell_type": "code",
   "execution_count": null,
   "id": "d712d9cd",
   "metadata": {},
   "outputs": [],
   "source": []
  },
  {
   "cell_type": "code",
   "execution_count": null,
   "id": "2434fec9",
   "metadata": {},
   "outputs": [],
   "source": []
  },
  {
   "cell_type": "code",
   "execution_count": null,
   "id": "d47b72c2",
   "metadata": {},
   "outputs": [],
   "source": []
  },
  {
   "cell_type": "code",
   "execution_count": null,
   "id": "b8d0e7b9",
   "metadata": {},
   "outputs": [],
   "source": []
  }
 ],
 "metadata": {
  "kernelspec": {
   "display_name": "Python (intro-ml)",
   "language": "python",
   "name": "intro-ml"
  },
  "language_info": {
   "codemirror_mode": {
    "name": "ipython",
    "version": 3
   },
   "file_extension": ".py",
   "mimetype": "text/x-python",
   "name": "python",
   "nbconvert_exporter": "python",
   "pygments_lexer": "ipython3",
   "version": "3.9.1"
  }
 },
 "nbformat": 4,
 "nbformat_minor": 5
}
