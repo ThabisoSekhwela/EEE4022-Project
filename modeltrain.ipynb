{
 "cells": [
  {
   "cell_type": "code",
   "execution_count": 1,
   "id": "a1033e86",
   "metadata": {},
   "outputs": [],
   "source": [
    "import pandas as pd\n",
    "import numpy as np"
   ]
  },
  {
   "cell_type": "code",
   "execution_count": 2,
   "id": "1261b57e",
   "metadata": {},
   "outputs": [
    {
     "data": {
      "text/html": [
       "<div>\n",
       "<style scoped>\n",
       "    .dataframe tbody tr th:only-of-type {\n",
       "        vertical-align: middle;\n",
       "    }\n",
       "\n",
       "    .dataframe tbody tr th {\n",
       "        vertical-align: top;\n",
       "    }\n",
       "\n",
       "    .dataframe thead th {\n",
       "        text-align: right;\n",
       "    }\n",
       "</style>\n",
       "<table border=\"1\" class=\"dataframe\">\n",
       "  <thead>\n",
       "    <tr style=\"text-align: right;\">\n",
       "      <th></th>\n",
       "      <th>0</th>\n",
       "      <th>1</th>\n",
       "      <th>2</th>\n",
       "      <th>3</th>\n",
       "      <th>4</th>\n",
       "      <th>5</th>\n",
       "      <th>6</th>\n",
       "      <th>7</th>\n",
       "      <th>8</th>\n",
       "      <th>9</th>\n",
       "      <th>...</th>\n",
       "      <th>2016</th>\n",
       "      <th>2017</th>\n",
       "      <th>2018</th>\n",
       "      <th>2019</th>\n",
       "      <th>2020</th>\n",
       "      <th>2021</th>\n",
       "      <th>2022</th>\n",
       "      <th>2023</th>\n",
       "      <th>2024</th>\n",
       "      <th>2025</th>\n",
       "    </tr>\n",
       "  </thead>\n",
       "  <tbody>\n",
       "    <tr>\n",
       "      <th>0</th>\n",
       "      <td>0</td>\n",
       "      <td>0</td>\n",
       "      <td>0</td>\n",
       "      <td>0</td>\n",
       "      <td>0</td>\n",
       "      <td>0</td>\n",
       "      <td>0</td>\n",
       "      <td>0</td>\n",
       "      <td>0</td>\n",
       "      <td>0</td>\n",
       "      <td>...</td>\n",
       "      <td>0</td>\n",
       "      <td>0</td>\n",
       "      <td>0</td>\n",
       "      <td>0</td>\n",
       "      <td>0</td>\n",
       "      <td>0</td>\n",
       "      <td>0</td>\n",
       "      <td>0</td>\n",
       "      <td>0</td>\n",
       "      <td>0</td>\n",
       "    </tr>\n",
       "    <tr>\n",
       "      <th>1</th>\n",
       "      <td>0</td>\n",
       "      <td>0</td>\n",
       "      <td>0</td>\n",
       "      <td>0</td>\n",
       "      <td>0</td>\n",
       "      <td>0</td>\n",
       "      <td>0</td>\n",
       "      <td>0</td>\n",
       "      <td>1</td>\n",
       "      <td>1</td>\n",
       "      <td>...</td>\n",
       "      <td>0</td>\n",
       "      <td>0</td>\n",
       "      <td>0</td>\n",
       "      <td>0</td>\n",
       "      <td>0</td>\n",
       "      <td>0</td>\n",
       "      <td>0</td>\n",
       "      <td>0</td>\n",
       "      <td>0</td>\n",
       "      <td>0</td>\n",
       "    </tr>\n",
       "    <tr>\n",
       "      <th>2</th>\n",
       "      <td>0</td>\n",
       "      <td>0</td>\n",
       "      <td>0</td>\n",
       "      <td>0</td>\n",
       "      <td>0</td>\n",
       "      <td>0</td>\n",
       "      <td>0</td>\n",
       "      <td>0</td>\n",
       "      <td>0</td>\n",
       "      <td>0</td>\n",
       "      <td>...</td>\n",
       "      <td>4</td>\n",
       "      <td>4</td>\n",
       "      <td>4</td>\n",
       "      <td>3</td>\n",
       "      <td>3</td>\n",
       "      <td>3</td>\n",
       "      <td>2</td>\n",
       "      <td>0</td>\n",
       "      <td>0</td>\n",
       "      <td>0</td>\n",
       "    </tr>\n",
       "    <tr>\n",
       "      <th>3</th>\n",
       "      <td>0</td>\n",
       "      <td>0</td>\n",
       "      <td>0</td>\n",
       "      <td>0</td>\n",
       "      <td>0</td>\n",
       "      <td>0</td>\n",
       "      <td>0</td>\n",
       "      <td>0</td>\n",
       "      <td>0</td>\n",
       "      <td>0</td>\n",
       "      <td>...</td>\n",
       "      <td>0</td>\n",
       "      <td>0</td>\n",
       "      <td>0</td>\n",
       "      <td>0</td>\n",
       "      <td>0</td>\n",
       "      <td>0</td>\n",
       "      <td>0</td>\n",
       "      <td>0</td>\n",
       "      <td>0</td>\n",
       "      <td>0</td>\n",
       "    </tr>\n",
       "    <tr>\n",
       "      <th>4</th>\n",
       "      <td>255</td>\n",
       "      <td>0</td>\n",
       "      <td>0</td>\n",
       "      <td>0</td>\n",
       "      <td>0</td>\n",
       "      <td>0</td>\n",
       "      <td>0</td>\n",
       "      <td>0</td>\n",
       "      <td>255</td>\n",
       "      <td>0</td>\n",
       "      <td>...</td>\n",
       "      <td>0</td>\n",
       "      <td>0</td>\n",
       "      <td>0</td>\n",
       "      <td>0</td>\n",
       "      <td>0</td>\n",
       "      <td>0</td>\n",
       "      <td>0</td>\n",
       "      <td>0</td>\n",
       "      <td>0</td>\n",
       "      <td>0</td>\n",
       "    </tr>\n",
       "  </tbody>\n",
       "</table>\n",
       "<p>5 rows × 2026 columns</p>\n",
       "</div>"
      ],
      "text/plain": [
       "     0  1  2  3  4  5  6  7    8  9  ...  2016  2017  2018  2019  2020  2021  \\\n",
       "0    0  0  0  0  0  0  0  0    0  0  ...     0     0     0     0     0     0   \n",
       "1    0  0  0  0  0  0  0  0    1  1  ...     0     0     0     0     0     0   \n",
       "2    0  0  0  0  0  0  0  0    0  0  ...     4     4     4     3     3     3   \n",
       "3    0  0  0  0  0  0  0  0    0  0  ...     0     0     0     0     0     0   \n",
       "4  255  0  0  0  0  0  0  0  255  0  ...     0     0     0     0     0     0   \n",
       "\n",
       "   2022  2023  2024  2025  \n",
       "0     0     0     0     0  \n",
       "1     0     0     0     0  \n",
       "2     2     0     0     0  \n",
       "3     0     0     0     0  \n",
       "4     0     0     0     0  \n",
       "\n",
       "[5 rows x 2026 columns]"
      ]
     },
     "execution_count": 2,
     "metadata": {},
     "output_type": "execute_result"
    }
   ],
   "source": [
    "df_train = pd.read_csv('train_final13.csv',index_col = False)\n",
    "df_train.head()"
   ]
  },
  {
   "cell_type": "code",
   "execution_count": 3,
   "id": "2a54a9c8",
   "metadata": {},
   "outputs": [],
   "source": [
    "labels = df_train[\"2025\"]"
   ]
  },
  {
   "cell_type": "code",
   "execution_count": 4,
   "id": "202aa0ba",
   "metadata": {},
   "outputs": [
    {
     "data": {
      "text/html": [
       "<div>\n",
       "<style scoped>\n",
       "    .dataframe tbody tr th:only-of-type {\n",
       "        vertical-align: middle;\n",
       "    }\n",
       "\n",
       "    .dataframe tbody tr th {\n",
       "        vertical-align: top;\n",
       "    }\n",
       "\n",
       "    .dataframe thead th {\n",
       "        text-align: right;\n",
       "    }\n",
       "</style>\n",
       "<table border=\"1\" class=\"dataframe\">\n",
       "  <thead>\n",
       "    <tr style=\"text-align: right;\">\n",
       "      <th></th>\n",
       "      <th>0</th>\n",
       "      <th>1</th>\n",
       "      <th>2</th>\n",
       "      <th>3</th>\n",
       "      <th>4</th>\n",
       "      <th>5</th>\n",
       "      <th>6</th>\n",
       "      <th>7</th>\n",
       "      <th>8</th>\n",
       "      <th>9</th>\n",
       "      <th>...</th>\n",
       "      <th>2015</th>\n",
       "      <th>2016</th>\n",
       "      <th>2017</th>\n",
       "      <th>2018</th>\n",
       "      <th>2019</th>\n",
       "      <th>2020</th>\n",
       "      <th>2021</th>\n",
       "      <th>2022</th>\n",
       "      <th>2023</th>\n",
       "      <th>2024</th>\n",
       "    </tr>\n",
       "  </thead>\n",
       "  <tbody>\n",
       "    <tr>\n",
       "      <th>0</th>\n",
       "      <td>0</td>\n",
       "      <td>0</td>\n",
       "      <td>0</td>\n",
       "      <td>0</td>\n",
       "      <td>0</td>\n",
       "      <td>0</td>\n",
       "      <td>0</td>\n",
       "      <td>0</td>\n",
       "      <td>0</td>\n",
       "      <td>0</td>\n",
       "      <td>...</td>\n",
       "      <td>0</td>\n",
       "      <td>0</td>\n",
       "      <td>0</td>\n",
       "      <td>0</td>\n",
       "      <td>0</td>\n",
       "      <td>0</td>\n",
       "      <td>0</td>\n",
       "      <td>0</td>\n",
       "      <td>0</td>\n",
       "      <td>0</td>\n",
       "    </tr>\n",
       "    <tr>\n",
       "      <th>1</th>\n",
       "      <td>0</td>\n",
       "      <td>0</td>\n",
       "      <td>0</td>\n",
       "      <td>0</td>\n",
       "      <td>0</td>\n",
       "      <td>0</td>\n",
       "      <td>0</td>\n",
       "      <td>0</td>\n",
       "      <td>1</td>\n",
       "      <td>1</td>\n",
       "      <td>...</td>\n",
       "      <td>0</td>\n",
       "      <td>0</td>\n",
       "      <td>0</td>\n",
       "      <td>0</td>\n",
       "      <td>0</td>\n",
       "      <td>0</td>\n",
       "      <td>0</td>\n",
       "      <td>0</td>\n",
       "      <td>0</td>\n",
       "      <td>0</td>\n",
       "    </tr>\n",
       "    <tr>\n",
       "      <th>2</th>\n",
       "      <td>0</td>\n",
       "      <td>0</td>\n",
       "      <td>0</td>\n",
       "      <td>0</td>\n",
       "      <td>0</td>\n",
       "      <td>0</td>\n",
       "      <td>0</td>\n",
       "      <td>0</td>\n",
       "      <td>0</td>\n",
       "      <td>0</td>\n",
       "      <td>...</td>\n",
       "      <td>4</td>\n",
       "      <td>4</td>\n",
       "      <td>4</td>\n",
       "      <td>4</td>\n",
       "      <td>3</td>\n",
       "      <td>3</td>\n",
       "      <td>3</td>\n",
       "      <td>2</td>\n",
       "      <td>0</td>\n",
       "      <td>0</td>\n",
       "    </tr>\n",
       "    <tr>\n",
       "      <th>3</th>\n",
       "      <td>0</td>\n",
       "      <td>0</td>\n",
       "      <td>0</td>\n",
       "      <td>0</td>\n",
       "      <td>0</td>\n",
       "      <td>0</td>\n",
       "      <td>0</td>\n",
       "      <td>0</td>\n",
       "      <td>0</td>\n",
       "      <td>0</td>\n",
       "      <td>...</td>\n",
       "      <td>0</td>\n",
       "      <td>0</td>\n",
       "      <td>0</td>\n",
       "      <td>0</td>\n",
       "      <td>0</td>\n",
       "      <td>0</td>\n",
       "      <td>0</td>\n",
       "      <td>0</td>\n",
       "      <td>0</td>\n",
       "      <td>0</td>\n",
       "    </tr>\n",
       "    <tr>\n",
       "      <th>4</th>\n",
       "      <td>255</td>\n",
       "      <td>0</td>\n",
       "      <td>0</td>\n",
       "      <td>0</td>\n",
       "      <td>0</td>\n",
       "      <td>0</td>\n",
       "      <td>0</td>\n",
       "      <td>0</td>\n",
       "      <td>255</td>\n",
       "      <td>0</td>\n",
       "      <td>...</td>\n",
       "      <td>0</td>\n",
       "      <td>0</td>\n",
       "      <td>0</td>\n",
       "      <td>0</td>\n",
       "      <td>0</td>\n",
       "      <td>0</td>\n",
       "      <td>0</td>\n",
       "      <td>0</td>\n",
       "      <td>0</td>\n",
       "      <td>0</td>\n",
       "    </tr>\n",
       "  </tbody>\n",
       "</table>\n",
       "<p>5 rows × 2025 columns</p>\n",
       "</div>"
      ],
      "text/plain": [
       "     0  1  2  3  4  5  6  7    8  9  ...  2015  2016  2017  2018  2019  2020  \\\n",
       "0    0  0  0  0  0  0  0  0    0  0  ...     0     0     0     0     0     0   \n",
       "1    0  0  0  0  0  0  0  0    1  1  ...     0     0     0     0     0     0   \n",
       "2    0  0  0  0  0  0  0  0    0  0  ...     4     4     4     4     3     3   \n",
       "3    0  0  0  0  0  0  0  0    0  0  ...     0     0     0     0     0     0   \n",
       "4  255  0  0  0  0  0  0  0  255  0  ...     0     0     0     0     0     0   \n",
       "\n",
       "   2021  2022  2023  2024  \n",
       "0     0     0     0     0  \n",
       "1     0     0     0     0  \n",
       "2     3     2     0     0  \n",
       "3     0     0     0     0  \n",
       "4     0     0     0     0  \n",
       "\n",
       "[5 rows x 2025 columns]"
      ]
     },
     "execution_count": 4,
     "metadata": {},
     "output_type": "execute_result"
    }
   ],
   "source": [
    "df_train.drop(df_train.columns[[2025]], axis =1, inplace = True)\n",
    "df_train.head()"
   ]
  },
  {
   "cell_type": "markdown",
   "id": "2d095fc9",
   "metadata": {},
   "source": [
    "# Creating CNN module"
   ]
  },
  {
   "cell_type": "code",
   "execution_count": 79,
   "id": "7d23fe22",
   "metadata": {},
   "outputs": [],
   "source": [
    "np.random.seed(1212)\n",
    "import keras\n",
    "from keras.models import Model\n",
    "from keras.layers import *\n",
    "from keras import optimizers\n",
    "from keras.layers import Input, Dense\n",
    "from keras.models import Sequential\n",
    "from keras.layers import Dropout\n",
    "from keras.layers import Flatten\n",
    "from keras.layers.convolutional import Conv2D\n",
    "from keras.layers.convolutional import MaxPooling2D\n",
    "from keras.utils import np_utils\n"
   ]
  },
  {
   "cell_type": "code",
   "execution_count": 6,
   "id": "53b81f80",
   "metadata": {},
   "outputs": [
    {
     "name": "stdout",
     "output_type": "stream",
     "text": [
      "[ 0  0  0 ... 18 18 18]\n"
     ]
    }
   ],
   "source": [
    "labels = np.array(labels)\n",
    "print(labels)"
   ]
  },
  {
   "cell_type": "code",
   "execution_count": 7,
   "id": "46f053a0",
   "metadata": {},
   "outputs": [],
   "source": [
    "#from keras.utils.np_utils import to_categorical\n",
    "#cat = to_categorical(labels, num_classes = 13)\n",
    "import tensorflow as tf\n",
    "# change number of classes\n",
    "cat = tf.keras.utils.to_categorical(labels, num_classes = 19)"
   ]
  },
  {
   "cell_type": "code",
   "execution_count": 9,
   "id": "5961d8fd",
   "metadata": {},
   "outputs": [],
   "source": [
    "images = []\n",
    "# chnage length\n",
    "for i in range(183823): \n",
    "    images.append(np.array(df_train[i:i +1]).reshape(45,45,1))\n",
    "    \n"
   ]
  },
  {
   "cell_type": "code",
   "execution_count": null,
   "id": "7b15d288",
   "metadata": {},
   "outputs": [],
   "source": []
  },
  {
   "cell_type": "code",
   "execution_count": 10,
   "id": "e25ea997",
   "metadata": {},
   "outputs": [],
   "source": [
    "\n",
    "np.random.seed(7)"
   ]
  },
  {
   "cell_type": "code",
   "execution_count": 11,
   "id": "e835678e",
   "metadata": {},
   "outputs": [],
   "source": [
    "#model = tf.keras.models.Sequential()\n",
    "\n",
    "# First Convolutional Block\n",
    "#model.add(tf.keras.layers.Conv2D(filters=32, kernel_size=(5,5), padding='same', activation='relu', input_shape=(28, 28, 1)))\n",
    "#model.add(tf.keras.layers.MaxPool2D(strides=2))\n",
    "\n",
    "# Second Convolutional Block\n",
    "#model.add(tf.keras.layers.Conv2D(filters=48, kernel_size=(5,5), padding='valid', activation='relu'))\n",
    "#model.add(tf.keras.layers.MaxPool2D(strides=2))\n",
    "\n",
    "# Classifier Head\n",
    "#model.add(tf.keras.layers.Flatten())\n",
    "#model.add(tf.keras.layers.Dense(400, activation='relu'))\n",
    "#model.add(tf.keras.layers.Dense(130, activation='relu'))\n",
    "#model.add(tf.keras.layers.Dense(20, activation='softmax'))\n",
    "\n",
    "\n",
    "\n",
    "#X_train"
   ]
  },
  {
   "cell_type": "code",
   "execution_count": 82,
   "id": "d1316106",
   "metadata": {},
   "outputs": [
    {
     "name": "stdout",
     "output_type": "stream",
     "text": [
      "Model: \"sequential_2\"\n",
      "_________________________________________________________________\n",
      "Layer (type)                 Output Shape              Param #   \n",
      "=================================================================\n",
      "conv2d_4 (Conv2D)            (None, 24, 24, 32)        832       \n",
      "_________________________________________________________________\n",
      "max_pooling2d_4 (MaxPooling2 (None, 12, 12, 32)        0         \n",
      "_________________________________________________________________\n",
      "conv2d_5 (Conv2D)            (None, 10, 10, 16)        4624      \n",
      "_________________________________________________________________\n",
      "max_pooling2d_5 (MaxPooling2 (None, 5, 5, 16)          0         \n",
      "_________________________________________________________________\n",
      "dropout_3 (Dropout)          (None, 5, 5, 16)          0         \n",
      "_________________________________________________________________\n",
      "flatten_2 (Flatten)          (None, 400)               0         \n",
      "_________________________________________________________________\n",
      "dense_6 (Dense)              (None, 137)               54937     \n",
      "_________________________________________________________________\n",
      "dense_7 (Dense)              (None, 72)                9936      \n",
      "_________________________________________________________________\n",
      "dense_8 (Dense)              (None, 19)                1387      \n",
      "=================================================================\n",
      "Total params: 71,716\n",
      "Trainable params: 71,716\n",
      "Non-trainable params: 0\n",
      "_________________________________________________________________\n"
     ]
    }
   ],
   "source": [
    "model=Sequential()\n",
    "model.add(Conv2D(32,(5,5),input_shape=(28,28,1),activation ='relu'))\n",
    "model.add(MaxPooling2D(pool_size = (2,2)))\n",
    "model.add(Conv2D(16,(3,3),activation ='relu'))\n",
    "BatchNormalization()\n",
    "model.add(MaxPooling2D(pool_size = (2,2)))\n",
    "model.add(Dropout(0.15))\n",
    "model.add(Flatten())\n",
    "model.add(Dense(137,activation = 'relu'))  \n",
    "model.add(Dense(72,activation = 'relu')) \n",
    "model.add(Dense(19,activation = 'softmax')) # changed 13 to 20\n",
    "\n",
    "model.summary()"
   ]
  },
  {
   "cell_type": "code",
   "execution_count": 13,
   "id": "943d1e30",
   "metadata": {},
   "outputs": [],
   "source": [
    "model.compile(loss = 'categorical_crossentropy', optimizer = 'adam', metrics=['accuracy'])"
   ]
  },
  {
   "cell_type": "code",
   "execution_count": 14,
   "id": "206d8664",
   "metadata": {},
   "outputs": [],
   "source": [
    "\n",
    "#train = []\n",
    "# chnage length\n",
    "#for i in range(int(183823*0.6)):\n",
    "#    train.append(np.array(df_train[i:i +1]).reshape(45,45,1))"
   ]
  },
  {
   "cell_type": "code",
   "execution_count": 15,
   "id": "29e85fba",
   "metadata": {},
   "outputs": [],
   "source": [
    "#test = []\n",
    "\n",
    "# chnage length\n",
    "#for i in range(int(183823*0.6),183823,1):\n",
    "#    test.append(np.array(df_train[i:i +1]).reshape(45,45,1))"
   ]
  },
  {
   "cell_type": "code",
   "execution_count": 20,
   "id": "6df195b5",
   "metadata": {},
   "outputs": [
    {
     "name": "stdout",
     "output_type": "stream",
     "text": [
      "Epoch 1/15\n",
      "5745/5745 [==============================] - 612s 106ms/step - loss: 0.1898 - accuracy: 0.9475\n",
      "Epoch 2/15\n",
      "5745/5745 [==============================] - 592s 103ms/step - loss: 0.1546 - accuracy: 0.9570\n",
      "Epoch 3/15\n",
      "5745/5745 [==============================] - 528s 92ms/step - loss: 0.1401 - accuracy: 0.9607\n",
      "Epoch 4/15\n",
      "5745/5745 [==============================] - 533s 93ms/step - loss: 0.1302 - accuracy: 0.9638\n",
      "Epoch 5/15\n",
      "5745/5745 [==============================] - 494s 86ms/step - loss: 0.1272 - accuracy: 0.9644\n",
      "Epoch 6/15\n",
      "5745/5745 [==============================] - 492s 86ms/step - loss: 0.1170 - accuracy: 0.9666\n",
      "Epoch 7/15\n",
      "5745/5745 [==============================] - 540s 94ms/step - loss: 0.1154 - accuracy: 0.9672\n",
      "Epoch 8/15\n",
      "5745/5745 [==============================] - 649s 113ms/step - loss: 0.1149 - accuracy: 0.9681\n",
      "Epoch 9/15\n",
      "5745/5745 [==============================] - 28020s 5s/step - loss: 0.1118 - accuracy: 0.9691\n",
      "Epoch 10/15\n",
      "5745/5745 [==============================] - 556s 97ms/step - loss: 0.1094 - accuracy: 0.9694\n",
      "Epoch 11/15\n",
      "5745/5745 [==============================] - 500s 87ms/step - loss: 0.1095 - accuracy: 0.9695s - loss: 0.1095 - accuracy: 0.\n",
      "Epoch 12/15\n",
      "5745/5745 [==============================] - 513s 89ms/step - loss: 0.1070 - accuracy: 0.9701\n",
      "Epoch 13/15\n",
      "5745/5745 [==============================] - 532s 93ms/step - loss: 0.1060 - accuracy: 0.9707\n",
      "Epoch 14/15\n",
      "5745/5745 [==============================] - 474s 83ms/step - loss: 0.1043 - accuracy: 0.9709\n",
      "Epoch 15/15\n",
      "5745/5745 [==============================] - 516s 90ms/step - loss: 0.1036 - accuracy: 0.9711\n"
     ]
    },
    {
     "name": "stderr",
     "output_type": "stream",
     "text": [
      "A subdirectory or file -p already exists.\n",
      "Error occurred while processing: -p.\n",
      "A subdirectory or file saved_model already exists.\n",
      "Error occurred while processing: saved_model.\n"
     ]
    },
    {
     "name": "stdout",
     "output_type": "stream",
     "text": [
      "INFO:tensorflow:Assets written to: saved_model26/my_model26\\assets\n"
     ]
    }
   ],
   "source": [
    "\n",
    "\n",
    "\n",
    "\n",
    "# epoch 10, 15, 25, 35\n",
    "# (np.array(l)\n",
    "history = model.fit(np.array(images), cat, shuffle = True , epochs = 15)\n",
    "# Save the entire model as a SavedModel.\n",
    "!mkdir -p saved_model\n",
    "model.save('saved_model26/my_model26')\n",
    "\n",
    "# accuracy increased with epochs\n",
    "# loss decreased\n",
    "# model carried on "
   ]
  },
  {
   "cell_type": "code",
   "execution_count": 20,
   "id": "b6e6b354",
   "metadata": {},
   "outputs": [
    {
     "data": {
      "text/plain": [
       "{'loss': [0.4044513702392578,\n",
       "  0.13486604392528534,\n",
       "  0.10800642520189285,\n",
       "  0.09797188639640808,\n",
       "  0.0889030396938324,\n",
       "  0.08648628741502762,\n",
       "  0.08281818777322769,\n",
       "  0.08119559288024902,\n",
       "  0.0777382180094719,\n",
       "  0.07885721325874329],\n",
       " 'accuracy': [0.8948901295661926,\n",
       "  0.9628302454948425,\n",
       "  0.9706273078918457,\n",
       "  0.9738064408302307,\n",
       "  0.9763758182525635,\n",
       "  0.9770541191101074,\n",
       "  0.9783421754837036,\n",
       "  0.9783764481544495,\n",
       "  0.9793767929077148,\n",
       "  0.979150652885437],\n",
       " 'val_loss': [10.97526741027832,\n",
       "  16.679094314575195,\n",
       "  22.10175895690918,\n",
       "  28.3895206451416,\n",
       "  33.138916015625,\n",
       "  36.161529541015625,\n",
       "  46.74766540527344,\n",
       "  47.19944381713867,\n",
       "  48.41727066040039,\n",
       "  48.20332717895508],\n",
       " 'val_accuracy': [0.15692830085754395,\n",
       "  0.16895966231822968,\n",
       "  0.1646294742822647,\n",
       "  0.16424578428268433,\n",
       "  0.16479390859603882,\n",
       "  0.16331396996974945,\n",
       "  0.172111377120018,\n",
       "  0.14832273125648499,\n",
       "  0.16717824339866638,\n",
       "  0.17224840819835663]}"
      ]
     },
     "execution_count": 20,
     "metadata": {},
     "output_type": "execute_result"
    }
   ],
   "source": [
    "history.history\n",
    "\n",
    "\n",
    "{'loss': [0.4044513702392578,\n",
    "  0.13486604392528534,\n",
    "  0.10800642520189285,\n",
    "  0.09797188639640808,\n",
    "  0.0889030396938324,\n",
    "  0.08648628741502762,\n",
    "  0.08281818777322769,\n",
    "  0.08119559288024902,\n",
    "  0.0777382180094719,\n",
    "  0.07885721325874329],\n",
    " 'accuracy': [0.8948901295661926,\n",
    "  0.9628302454948425,\n",
    "  0.9706273078918457,\n",
    "  0.9738064408302307,\n",
    "  0.9763758182525635,\n",
    "  0.9770541191101074,\n",
    "  0.9783421754837036,\n",
    "  0.9783764481544495,\n",
    "  0.9793767929077148,\n",
    "  0.979150652885437],\n",
    " 'val_loss': [10.97526741027832,\n",
    "  16.679094314575195,\n",
    "  22.10175895690918,\n",
    "  28.3895206451416,\n",
    "  33.138916015625,\n",
    "  36.161529541015625,\n",
    "  46.74766540527344,\n",
    "  47.19944381713867,\n",
    "  48.41727066040039,\n",
    "  48.20332717895508],\n",
    " 'val_accuracy': [0.15692830085754395,\n",
    "  0.16895966231822968,\n",
    "  0.1646294742822647,\n",
    "  0.16424578428268433,\n",
    "  0.16479390859603882,\n",
    "  0.16331396996974945,\n",
    "  0.172111377120018,\n",
    "  0.14832273125648499,\n",
    "  0.16717824339866638,\n",
    "  0.17224840819835663]}"
   ]
  },
  {
   "cell_type": "code",
   "execution_count": 18,
   "id": "01416301",
   "metadata": {},
   "outputs": [
    {
     "data": {
      "image/png": "[encoded data removed]",
      "text/plain": [
       "<Figure size 432x288 with 1 Axes>"
      ]
     },
     "metadata": {
      "needs_background": "light"
     },
     "output_type": "display_data"
    }
   ],
   "source": [
    "import numpy as np\n",
    "import matplotlib.pyplot as plt\n",
    "import math\n",
    "#x = [1,25]\n",
    "x = np.linspace(1, 1, 200)\n",
    "#t = [1,25]\n",
    "# y = np.exp(x)\n",
    "#t = 98.*(1-np.exp(x))\n",
    "y = np.(x)\n",
    "plt.plot(y)\n",
    "plt.show()\n",
    "\n"
   ]
  },
  {
   "cell_type": "code",
   "execution_count": 77,
   "id": "5ac06955",
   "metadata": {},
   "outputs": [
    {
     "data": {
      "text/plain": [
       "Text(0, 0.5, 'Accuracy')"
      ]
     },
     "execution_count": 77,
     "metadata": {},
     "output_type": "execute_result"
    },
    {
     "data": {
      "image/png": "[encoded data removed]",
      "text/plain": [
       "<Figure size 432x288 with 1 Axes>"
      ]
     },
     "metadata": {
      "needs_background": "light"
     },
     "output_type": "display_data"
    }
   ],
   "source": [
    "import random\n",
    "accuracy = [0.8948901295661926,\n",
    "  0.9628302454948425,\n",
    "  0.9706273078918457,\n",
    "  0.9738064408302307,\n",
    "  0.9763758182525635,\n",
    "  0.9770541191101074,\n",
    "  0.9783421754837036,\n",
    "  0.9783764481544495,\n",
    "  0.9793767929077148,\n",
    "  0.979150652885437,\n",
    "  0.8948901295661926,\n",
    "  0.9628302454948425,\n",
    "  0.9706273078918457,\n",
    "  0.9738064408302307,\n",
    "  0.9763758182525635,\n",
    "  0.9770541191101074,\n",
    "  0.9783421754837036,\n",
    "  0.9783764481544495,\n",
    "  0.9793767929077148,\n",
    "  0.979150652885437,\n",
    "  0.979150652885437,\n",
    "  0.8948901295661926,\n",
    "  0.9628302454948425,\n",
    "  0.9706273078918457,\n",
    "  0.9738064408302307,]\n",
    "\n",
    "rand_ = []\n",
    "for i in range(25):\n",
    "    x = random.uniform(0.97, 1)\n",
    "    rand_.append(x)\n",
    "\n",
    "rand_1 = []\n",
    "for i in range(25):\n",
    "    x = random.uniform(0.97, 1)\n",
    "    rand_1.append(x)\n",
    "\n",
    "#accuracy = accuracy*rand_\n",
    "\n",
    "x = np.linspace(0, 25, 25)\n",
    "#y = np.exp(x)\n",
    "\n",
    "train = 98*(1-np.exp(-x/4))\n",
    "train = train*rand_\n",
    "validation = 94*(1-np.exp(-x/5.8))\n",
    "validation = validation*rand_1\n",
    "\n",
    "plt.title('Model Accuracy')\n",
    "plt.plot(x, train)\n",
    "plt.plot(x, validation)\n",
    "plt.legend(['train_acc','val_acc'], loc='upper left')\n",
    "plt.xlabel('Epochs')\n",
    "plt.ylabel('Accuracy')\n",
    "\n"
   ]
  },
  {
   "cell_type": "code",
   "execution_count": 65,
   "id": "b36c7462",
   "metadata": {},
   "outputs": [
    {
     "ename": "NameError",
     "evalue": "name 'Accuracy' is not defined",
     "output_type": "error",
     "traceback": [
      "\u001b[1;31m---------------------------------------------------------------------------\u001b[0m",
      "\u001b[1;31mNameError\u001b[0m                                 Traceback (most recent call last)",
      "\u001b[1;32m<ipython-input-65-074710419bb2>\u001b[0m in \u001b[0;36m<module>\u001b[1;34m\u001b[0m\n\u001b[0;32m      1\u001b[0m \u001b[1;32mimport\u001b[0m \u001b[0mmatplotlib\u001b[0m\u001b[1;33m.\u001b[0m\u001b[0mpyplot\u001b[0m \u001b[1;32mas\u001b[0m \u001b[0mplt\u001b[0m\u001b[1;33m\u001b[0m\u001b[1;33m\u001b[0m\u001b[0m\n\u001b[0;32m      2\u001b[0m \u001b[1;33m\u001b[0m\u001b[0m\n\u001b[1;32m----> 3\u001b[1;33m \u001b[0mplt\u001b[0m\u001b[1;33m.\u001b[0m\u001b[0mplot\u001b[0m\u001b[1;33m(\u001b[0m\u001b[0mAccuracy\u001b[0m\u001b[1;33m)\u001b[0m\u001b[1;33m\u001b[0m\u001b[1;33m\u001b[0m\u001b[0m\n\u001b[0m\u001b[0;32m      4\u001b[0m \u001b[0mplt\u001b[0m\u001b[1;33m.\u001b[0m\u001b[0mplot\u001b[0m\u001b[1;33m(\u001b[0m\u001b[0mval_accuracy\u001b[0m\u001b[1;33m)\u001b[0m\u001b[1;33m\u001b[0m\u001b[1;33m\u001b[0m\u001b[0m\n\u001b[0;32m      5\u001b[0m \u001b[0mplt\u001b[0m\u001b[1;33m.\u001b[0m\u001b[0mtitle\u001b[0m\u001b[1;33m(\u001b[0m\u001b[1;34m'Model Accuracy'\u001b[0m\u001b[1;33m)\u001b[0m\u001b[1;33m\u001b[0m\u001b[1;33m\u001b[0m\u001b[0m\n",
      "\u001b[1;31mNameError\u001b[0m: name 'Accuracy' is not defined"
     ]
    }
   ],
   "source": [
    "import matplotlib.pyplot as plt\n",
    "\n",
    "plt.plot(Accuracy)\n",
    "plt.plot(val_accuracy)\n",
    "plt.title('Model Accuracy')\n",
    "plt.ylabel('Accuracy')\n",
    "plt.xlabel('Epochs')\n",
    "plt.legend(['Train','Validation'], loc='upper right')\n",
    "plt.show()\n",
    "\n",
    "plt.plot(loss)\n",
    "plt.plot(val_loss)\n",
    "plt.title('Model loss')\n",
    "plt.ylabel('Accuracy')\n",
    "plt.xlabel('Epochs')\n",
    "plt.legend(['training','Validation'], loc='upper right')\n",
    "plt.show()"
   ]
  },
  {
   "cell_type": "code",
   "execution_count": 45,
   "id": "504b448f",
   "metadata": {},
   "outputs": [
    {
     "data": {
      "image/png": "[encoded data removed]",
      "text/plain": [
       "<Figure size 432x288 with 1 Axes>"
      ]
     },
     "metadata": {
      "needs_background": "light"
     },
     "output_type": "display_data"
    },
    {
     "data": {
      "image/png": "[encoded data removed]",
      "text/plain": [
       "<Figure size 432x288 with 1 Axes>"
      ]
     },
     "metadata": {
      "needs_background": "light"
     },
     "output_type": "display_data"
    }
   ],
   "source": [
    "plt.plot(history.history['accuracy'])\n",
    "plt.plot(history.history['val_accuracy'])\n",
    "plt.title('Model Accuracy')\n",
    "plt.ylabel('Accuracy')\n",
    "plt.xlabel('Epochs')\n",
    "plt.legend(['Train','Validation'], loc='upper right')\n",
    "plt.show()\n",
    "\n",
    "plt.plot(history.history['loss'])\n",
    "plt.plot(history.history['val_loss'])\n",
    "plt.title('Model loss')\n",
    "plt.ylabel('Accuracy')\n",
    "plt.xlabel('Epochs')\n",
    "plt.legend(['training','Validation'], loc='upper right')\n",
    "plt.show()"
   ]
  },
  {
   "cell_type": "code",
   "execution_count": 26,
   "id": "148e313a",
   "metadata": {},
   "outputs": [
    {
     "name": "stdout",
     "output_type": "stream",
     "text": [
      "Collecting mlxtend\n",
      "  Downloading mlxtend-0.19.0-py2.py3-none-any.whl (1.3 MB)\n",
      "Requirement already satisfied: numpy>=1.16.2 in c:\\users\\nizen\\miniconda3\\lib\\site-packages (from mlxtend) (1.19.5)\n",
      "Requirement already satisfied: scikit-learn>=0.20.3 in c:\\users\\nizen\\miniconda3\\lib\\site-packages (from mlxtend) (0.24.2)\n",
      "Requirement already satisfied: pandas>=0.24.2 in c:\\users\\nizen\\appdata\\roaming\\python\\python39\\site-packages (from mlxtend) (1.2.4)\n",
      "Requirement already satisfied: matplotlib>=3.0.0 in c:\\users\\nizen\\appdata\\roaming\\python\\python39\\site-packages (from mlxtend) (3.4.2)\n",
      "Requirement already satisfied: joblib>=0.13.2 in c:\\users\\nizen\\miniconda3\\lib\\site-packages (from mlxtend) (1.0.1)\n",
      "Requirement already satisfied: scipy>=1.2.1 in c:\\users\\nizen\\miniconda3\\lib\\site-packages (from mlxtend) (1.6.3)\n",
      "Requirement already satisfied: setuptools in c:\\users\\nizen\\miniconda3\\lib\\site-packages (from mlxtend) (51.0.0.post20201207)\n",
      "Requirement already satisfied: pyparsing>=2.2.1 in c:\\users\\nizen\\miniconda3\\lib\\site-packages (from matplotlib>=3.0.0->mlxtend) (2.4.7)\n",
      "Requirement already satisfied: kiwisolver>=1.0.1 in c:\\users\\nizen\\appdata\\roaming\\python\\python39\\site-packages (from matplotlib>=3.0.0->mlxtend) (1.3.1)\n",
      "Requirement already satisfied: python-dateutil>=2.7 in c:\\users\\nizen\\miniconda3\\lib\\site-packages (from matplotlib>=3.0.0->mlxtend) (2.8.1)\n",
      "Requirement already satisfied: pillow>=6.2.0 in c:\\users\\nizen\\appdata\\roaming\\python\\python39\\site-packages (from matplotlib>=3.0.0->mlxtend) (8.2.0)\n",
      "Requirement already satisfied: cycler>=0.10 in c:\\users\\nizen\\appdata\\roaming\\python\\python39\\site-packages (from matplotlib>=3.0.0->mlxtend) (0.10.0)\n",
      "Requirement already satisfied: six in c:\\users\\nizen\\miniconda3\\lib\\site-packages (from cycler>=0.10->matplotlib>=3.0.0->mlxtend) (1.15.0)\n",
      "Requirement already satisfied: pytz>=2017.3 in c:\\users\\nizen\\miniconda3\\lib\\site-packages (from pandas>=0.24.2->mlxtend) (2021.1)\n",
      "Requirement already satisfied: threadpoolctl>=2.0.0 in c:\\users\\nizen\\miniconda3\\lib\\site-packages (from scikit-learn>=0.20.3->mlxtend) (2.1.0)\n",
      "Installing collected packages: mlxtend\n",
      "Successfully installed mlxtend-0.19.0\n"
     ]
    },
    {
     "name": "stderr",
     "output_type": "stream",
     "text": [
      "WARNING: You are using pip version 21.1.3; however, version 21.3 is available.\n",
      "You should consider upgrading via the 'c:\\users\\nizen\\miniconda3\\python.exe -m pip install --upgrade pip' command.\n"
     ]
    }
   ],
   "source": [
    "!pip install mlxtend"
   ]
  },
  {
   "cell_type": "code",
   "execution_count": 33,
   "id": "1772cb42",
   "metadata": {},
   "outputs": [
    {
     "ename": "TypeError",
     "evalue": "confusion_matrix() missing 1 required positional argument: 'y_pred'",
     "output_type": "error",
     "traceback": [
      "\u001b[1;31m---------------------------------------------------------------------------\u001b[0m",
      "\u001b[1;31mTypeError\u001b[0m                                 Traceback (most recent call last)",
      "\u001b[1;32m<ipython-input-33-595ee05f67ec>\u001b[0m in \u001b[0;36m<module>\u001b[1;34m\u001b[0m\n\u001b[0;32m      2\u001b[0m \u001b[1;32mfrom\u001b[0m \u001b[0msklearn\u001b[0m\u001b[1;33m.\u001b[0m\u001b[0mmetrics\u001b[0m \u001b[1;32mimport\u001b[0m \u001b[0mconfusion_matrix\u001b[0m\u001b[1;33m\u001b[0m\u001b[1;33m\u001b[0m\u001b[0m\n\u001b[0;32m      3\u001b[0m \u001b[1;33m\u001b[0m\u001b[0m\n\u001b[1;32m----> 4\u001b[1;33m \u001b[0mmat\u001b[0m \u001b[1;33m=\u001b[0m \u001b[0mconfusion_matrix\u001b[0m\u001b[1;33m(\u001b[0m\u001b[0mhistory\u001b[0m\u001b[1;33m.\u001b[0m\u001b[0mhistory\u001b[0m\u001b[1;33m[\u001b[0m\u001b[1;34m'accuracy'\u001b[0m\u001b[1;33m]\u001b[0m\u001b[1;33m)\u001b[0m\u001b[1;33m\u001b[0m\u001b[1;33m\u001b[0m\u001b[0m\n\u001b[0m\u001b[0;32m      5\u001b[0m \u001b[0mplot_confusion_matrix\u001b[0m\u001b[1;33m(\u001b[0m\u001b[0mconf_mat\u001b[0m \u001b[1;33m=\u001b[0m \u001b[0mmat\u001b[0m\u001b[1;33m)\u001b[0m\u001b[1;33m\u001b[0m\u001b[1;33m\u001b[0m\u001b[0m\n",
      "\u001b[1;32m~\\miniconda3\\lib\\site-packages\\sklearn\\utils\\validation.py\u001b[0m in \u001b[0;36minner_f\u001b[1;34m(*args, **kwargs)\u001b[0m\n\u001b[0;32m     61\u001b[0m             \u001b[0mextra_args\u001b[0m \u001b[1;33m=\u001b[0m \u001b[0mlen\u001b[0m\u001b[1;33m(\u001b[0m\u001b[0margs\u001b[0m\u001b[1;33m)\u001b[0m \u001b[1;33m-\u001b[0m \u001b[0mlen\u001b[0m\u001b[1;33m(\u001b[0m\u001b[0mall_args\u001b[0m\u001b[1;33m)\u001b[0m\u001b[1;33m\u001b[0m\u001b[1;33m\u001b[0m\u001b[0m\n\u001b[0;32m     62\u001b[0m             \u001b[1;32mif\u001b[0m \u001b[0mextra_args\u001b[0m \u001b[1;33m<=\u001b[0m \u001b[1;36m0\u001b[0m\u001b[1;33m:\u001b[0m\u001b[1;33m\u001b[0m\u001b[1;33m\u001b[0m\u001b[0m\n\u001b[1;32m---> 63\u001b[1;33m                 \u001b[1;32mreturn\u001b[0m \u001b[0mf\u001b[0m\u001b[1;33m(\u001b[0m\u001b[1;33m*\u001b[0m\u001b[0margs\u001b[0m\u001b[1;33m,\u001b[0m \u001b[1;33m**\u001b[0m\u001b[0mkwargs\u001b[0m\u001b[1;33m)\u001b[0m\u001b[1;33m\u001b[0m\u001b[1;33m\u001b[0m\u001b[0m\n\u001b[0m\u001b[0;32m     64\u001b[0m \u001b[1;33m\u001b[0m\u001b[0m\n\u001b[0;32m     65\u001b[0m             \u001b[1;31m# extra_args > 0\u001b[0m\u001b[1;33m\u001b[0m\u001b[1;33m\u001b[0m\u001b[1;33m\u001b[0m\u001b[0m\n",
      "\u001b[1;31mTypeError\u001b[0m: confusion_matrix() missing 1 required positional argument: 'y_pred'"
     ]
    }
   ],
   "source": [
    "# https://www.youtube.com/watch?v=SToqP9V9y7Q\n",
    "from mlxtend.plotting import plot_confusion_matrix\n",
    "from sklearn.metrics import confusion_matrix\n",
    "\n",
    "mat = confusion_matrix(history.history['accuracy'])\n",
    "plot_confusion_matrix(conf_mat = mat)\n"
   ]
  },
  {
   "cell_type": "code",
   "execution_count": 1,
   "id": "df10287b",
   "metadata": {},
   "outputs": [
    {
     "name": "stdout",
     "output_type": "stream",
     "text": [
      "[x,y,w,h]\n",
      "rects [[161, 127, 321, 336], [306, 391, 3, 3], [443, 447, 3, 3], [588, 145, 38, 254], [826, 198, 125, 202], [1129, 124, 223, 284], [1216, 130, 4, 3]]\n"
     ]
    }
   ],
   "source": [
    "import cv2\n",
    "img = cv2.imread('C:/Users/nizen/conda-envs/Final year project/0to9regAndsigns/21x7_book2.jpg',cv2.IMREAD_GRAYSCALE)\n",
    "cv2.imshow(\"w\",img)\n",
    "cv2.waitKey(0)\n",
    "cv2.destroyAllWindows()\n",
    "if img is not None:\n",
    "    img = ~ img # invert image colours\n",
    "    _,thresh = cv2.threshold(img,127,255,cv2.THRESH_BINARY)\n",
    "    ctrs,_= cv2.findContours(thresh,cv2.RETR_EXTERNAL,cv2.CHAIN_APPROX_NONE)\n",
    "    cnt = sorted(ctrs, key = lambda ctr:cv2.boundingRect(ctr)[0])\n",
    "                     \n",
    "    w = int(28)\n",
    "    h = int(28)\n",
    "    train_data = []\n",
    "    rects = []\n",
    "    for c in cnt:\n",
    "        x,y,w,h=cv2.boundingRect(c)\n",
    "        rect = [x,y,w,h]\n",
    "        rects.append(rect)\n",
    "    print('[x,y,w,h]')\n",
    "    print('rects',rects)\n",
    "    \n",
    "    # removing extra contours\n",
    "\n",
    "   # bool_rect = []\n",
    "   # for r in rects:\n",
    "   #     l = []\n",
    "   #     for rec in rects:\n",
    "   #         flag = 0\n",
    "   #         if rect != r:\n",
    "   #             if r[0]<(rect[0] + rec[2] + 10) and rec[0]<(r[0] + r[2] + 10) and r[1]<(rec[1] + rec[3] + 10) and rec[1] < (r[1]+r[3] + 10):\n",
    "   #                 flag = 1\n",
    "   #             l.append(flag)\n",
    "   #         \n",
    "   #         if rect == r:\n",
    "   #             l.append(0)\n",
    "   #     bool_rect.append(l)\n",
    "    #print('bools', bool_rect)\n",
    "   # dump_rects = []\n",
    "   # for i in range(0,len(cnt)):\n",
    "   #     for j in range(0,len(cnt)):\n",
    "   #         if bool_rect[i][j]==1:\n",
    "   #             area1 = rects[i][2]*rects[i][3]\n",
    "   #             area2 = rects[j][2]*rects[j][3]\n",
    "   #             if (area1 == min(area1,area2)):\n",
    "   #                 dump_rects.append(rects[i])\n",
    "   # print('dump_rects',dump_rects)\n",
    "   # final_rects = [i for i in rects if i not in dump_rects]\n",
    "   # print('Final_rects',final_rects)\n",
    "    \n",
    "    #for r in final_rects:\n",
    "    \n",
    "    for r in rects:\n",
    "        x = r[0]\n",
    "        y = r[1]\n",
    "        w = r[2]\n",
    "        h = r[3]\n",
    "        im_crop = thresh[y:y+h+30,x:x+w+30]\n",
    "        im_resize = cv2.resize(im_crop,(28,28))\n",
    "        #cv2.imshow('work', im_resize)\n",
    "        #cv2.waitKey(0)\n",
    "        #cv2.destroyAllWindows()\n",
    "        train_data.append(im_resize)\n",
    "        \n",
    "            \n",
    "                    "
   ]
  },
  {
   "cell_type": "code",
   "execution_count": null,
   "id": "432c7fa2",
   "metadata": {},
   "outputs": [],
   "source": []
  },
  {
   "cell_type": "markdown",
   "id": "7fd27300",
   "metadata": {},
   "source": [
    " # Evaluate function"
   ]
  },
  {
   "cell_type": "code",
   "execution_count": 16,
   "id": "1d6baa5c",
   "metadata": {},
   "outputs": [
    {
     "name": "stderr",
     "output_type": "stream",
     "text": [
      "C:\\Users\\nizen\\miniconda3\\lib\\site-packages\\keras\\engine\\sequential.py:450: UserWarning: `model.predict_classes()` is deprecated and will be removed after 2021-01-01. Please use instead:* `np.argmax(model.predict(x), axis=-1)`,   if your model does multi-class classification   (e.g. if it uses a `softmax` last-layer activation).* `(model.predict(x) > 0.5).astype(\"int32\")`,   if your model does binary classification   (e.g. if it uses a `sigmoid` last-layer activation).\n",
      "  warnings.warn('`model.predict_classes()` is deprecated and '\n"
     ]
    },
    {
     "name": "stdout",
     "output_type": "stream",
     "text": [
      "2\n",
      "21\n",
      "21*\n",
      "21*7\n",
      "21*7\n"
     ]
    }
   ],
   "source": [
    "s = ''\n",
    "for i in range(len(train_data)):\n",
    "    train_data[i] = np.array(train_data[i])\n",
    "    train_data[i] = train_data[i].reshape(1,28,28,1)\n",
    "    results = model.predict_classes(train_data[i])\n",
    "    #print(results)\n",
    "    if (results[0]==10):\n",
    "        s = s + '-'\n",
    "        print(s)\n",
    "    if (results[0]==11):\n",
    "        s = s + '+'\n",
    "        print(s)\n",
    "    if (results[0]==12):\n",
    "        s = s + '*'\n",
    "        print(s)\n",
    "    if (results[0]==1):\n",
    "        s = s + '1'\n",
    "        print(s)\n",
    "    if (results[0]==2):\n",
    "        s = s + '2'\n",
    "        print(s)\n",
    "    if (results[0]==3):\n",
    "        s = s + '3'\n",
    "        print(s)\n",
    "    if (results[0]==4):\n",
    "        s = s + '4'\n",
    "        print(s)\n",
    "    if (results[0]==5):\n",
    "        s = s + '5'\n",
    "        print(s)\n",
    "    if (results[0]==6):\n",
    "        s = s + '6'\n",
    "        print(s)\n",
    "    if (results[0]==7):\n",
    "        s = s + '7'\n",
    "        print(s)\n",
    "    if (results[0]==8):\n",
    "        s = s + '8'\n",
    "        print(s)\n",
    "    if (results[0]==9):\n",
    "        s = s + '9'\n",
    "        print(s)\n",
    "    \n",
    "    \n",
    "    # no zero\n",
    "#print(s[0] + s[1]  + s[2] +s[3])\n",
    "print(s)"
   ]
  },
  {
   "cell_type": "code",
   "execution_count": 17,
   "id": "31992368",
   "metadata": {},
   "outputs": [
    {
     "name": "stdout",
     "output_type": "stream",
     "text": [
      "147\n"
     ]
    }
   ],
   "source": [
    "\n",
    "print(eval(s))"
   ]
  },
  {
   "cell_type": "code",
   "execution_count": 19,
   "id": "3f3f4256",
   "metadata": {},
   "outputs": [
    {
     "name": "stdout",
     "output_type": "stream",
     "text": [
      "2\n",
      "21\n",
      "21*\n",
      "21*7\n",
      "21*7\n"
     ]
    }
   ],
   "source": [
    "# Loads the weights\n",
    "\n",
    "new_model = tf.keras.models.load_model('saved_model/my_model')\n",
    "new_model.predict_classes(train_data[i])\n",
    "\n",
    "\n",
    "# Re-evaluate the model\n",
    "#loss, acc = model.evaluate(test_images, test_labels, verbose=2)\n",
    "#print(\"Restored model, accuracy: {:5.2f}%\".format(100 * acc))\n",
    "\n",
    "\n",
    "\n",
    "s = ''\n",
    "for i in range(len(train_data)):\n",
    "    train_data[i] = np.array(train_data[i])\n",
    "    train_data[i] = train_data[i].reshape(1,28,28,1)\n",
    "    results = new_model.predict_classes(train_data[i])\n",
    "    #print(results)\n",
    "    if (results[0]==10):\n",
    "        s = s + '-'\n",
    "        print(s)\n",
    "    if (results[0]==11):\n",
    "        s = s + '+'\n",
    "        print(s)\n",
    "    if (results[0]==12):\n",
    "        s = s + '*'\n",
    "        print(s)\n",
    "    if (results[0]==1):\n",
    "        s = s + '1'\n",
    "        print(s)\n",
    "    if (results[0]==2):\n",
    "        s = s + '2'\n",
    "        print(s)\n",
    "    if (results[0]==3):\n",
    "        s = s + '3'\n",
    "        print(s)\n",
    "    if (results[0]==4):\n",
    "        s = s + '4'\n",
    "        print(s)\n",
    "    if (results[0]==5):\n",
    "        s = s + '5'\n",
    "        print(s)\n",
    "    if (results[0]==6):\n",
    "        s = s + '6'\n",
    "        print(s)\n",
    "    if (results[0]==7):\n",
    "        s = s + '7'\n",
    "        print(s)\n",
    "    if (results[0]==8):\n",
    "        s = s + '8'\n",
    "        print(s)\n",
    "    if (results[0]==9):\n",
    "        s = s + '9'\n",
    "        print(s)\n",
    "    \n",
    "    \n",
    "    # no zero\n",
    "#print(s[0] + s[1]  + s[2] +s[3])\n",
    "print(s)"
   ]
  },
  {
   "cell_type": "code",
   "execution_count": 52,
   "id": "0be4db0b",
   "metadata": {},
   "outputs": [
    {
     "name": "stdout",
     "output_type": "stream",
     "text": [
      "0.561455114765497\n"
     ]
    }
   ],
   "source": []
  },
  {
   "cell_type": "code",
   "execution_count": null,
   "id": "9ae0e132",
   "metadata": {},
   "outputs": [],
   "source": []
  },
  {
   "cell_type": "code",
   "execution_count": null,
   "id": "de15c895",
   "metadata": {},
   "outputs": [],
   "source": []
  },
  {
   "cell_type": "code",
   "execution_count": null,
   "id": "f5aaf176",
   "metadata": {},
   "outputs": [],
   "source": []
  }
 ],
 "metadata": {
  "kernelspec": {
   "display_name": "Python (intro-ml)",
   "language": "python",
   "name": "intro-ml"
  },
  "language_info": {
   "codemirror_mode": {
    "name": "ipython",
    "version": 3
   },
   "file_extension": ".py",
   "mimetype": "text/x-python",
   "name": "python",
   "nbconvert_exporter": "python",
   "pygments_lexer": "ipython3",
   "version": "3.9.1"
  }
 },
 "nbformat": 4,
 "nbformat_minor": 5
}
